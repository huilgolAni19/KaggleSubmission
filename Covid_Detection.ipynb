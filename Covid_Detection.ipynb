{
  "nbformat": 4,
  "nbformat_minor": 0,
  "metadata": {
    "colab": {
      "name": "Covid-Detection.ipynb",
      "provenance": [],
      "collapsed_sections": [],
      "machine_shape": "hm"
    },
    "kernelspec": {
      "name": "python3",
      "display_name": "Python 3"
    },
    "language_info": {
      "name": "python"
    },
    "accelerator": "GPU",
    "widgets": {
      "application/vnd.jupyter.widget-state+json": {
        "74f05dd0b5834dc79e2a6ddd5f3e817a": {
          "model_module": "@jupyter-widgets/controls",
          "model_name": "HBoxModel",
          "state": {
            "_view_name": "HBoxView",
            "_dom_classes": [],
            "_model_name": "HBoxModel",
            "_view_module": "@jupyter-widgets/controls",
            "_model_module_version": "1.5.0",
            "_view_count": null,
            "_view_module_version": "1.5.0",
            "box_style": "",
            "layout": "IPY_MODEL_a04275c5e84845b7a0582f932e58dfc3",
            "_model_module": "@jupyter-widgets/controls",
            "children": [
              "IPY_MODEL_188e97500f954fe18a1faefd3092f98d",
              "IPY_MODEL_5c0c7e45d27e4046af104f2131da680a"
            ]
          }
        },
        "a04275c5e84845b7a0582f932e58dfc3": {
          "model_module": "@jupyter-widgets/base",
          "model_name": "LayoutModel",
          "state": {
            "_view_name": "LayoutView",
            "grid_template_rows": null,
            "right": null,
            "justify_content": null,
            "_view_module": "@jupyter-widgets/base",
            "overflow": null,
            "_model_module_version": "1.2.0",
            "_view_count": null,
            "flex_flow": null,
            "width": null,
            "min_width": null,
            "border": null,
            "align_items": null,
            "bottom": null,
            "_model_module": "@jupyter-widgets/base",
            "top": null,
            "grid_column": null,
            "overflow_y": null,
            "overflow_x": null,
            "grid_auto_flow": null,
            "grid_area": null,
            "grid_template_columns": null,
            "flex": null,
            "_model_name": "LayoutModel",
            "justify_items": null,
            "grid_row": null,
            "max_height": null,
            "align_content": null,
            "visibility": null,
            "align_self": null,
            "height": null,
            "min_height": null,
            "padding": null,
            "grid_auto_rows": null,
            "grid_gap": null,
            "max_width": null,
            "order": null,
            "_view_module_version": "1.2.0",
            "grid_template_areas": null,
            "object_position": null,
            "object_fit": null,
            "grid_auto_columns": null,
            "margin": null,
            "display": null,
            "left": null
          }
        },
        "188e97500f954fe18a1faefd3092f98d": {
          "model_module": "@jupyter-widgets/controls",
          "model_name": "FloatProgressModel",
          "state": {
            "_view_name": "ProgressView",
            "style": "IPY_MODEL_5d4aa5ccac5c4ba4b8326a1288e076a4",
            "_dom_classes": [],
            "description": "",
            "_model_name": "FloatProgressModel",
            "bar_style": "success",
            "max": 1,
            "_view_module": "@jupyter-widgets/controls",
            "_model_module_version": "1.5.0",
            "value": 1,
            "_view_count": null,
            "_view_module_version": "1.5.0",
            "orientation": "horizontal",
            "min": 0,
            "description_tooltip": null,
            "_model_module": "@jupyter-widgets/controls",
            "layout": "IPY_MODEL_6655a61d7fdf4a289f5b3df3aa8f4dfd"
          }
        },
        "5c0c7e45d27e4046af104f2131da680a": {
          "model_module": "@jupyter-widgets/controls",
          "model_name": "HTMLModel",
          "state": {
            "_view_name": "HTMLView",
            "style": "IPY_MODEL_a24651bea7674a01b0e16c8da0718ba3",
            "_dom_classes": [],
            "description": "",
            "_model_name": "HTMLModel",
            "placeholder": "​",
            "_view_module": "@jupyter-widgets/controls",
            "_model_module_version": "1.5.0",
            "value": " 6054/? [1:50:27&lt;00:00,  1.09s/it]",
            "_view_count": null,
            "_view_module_version": "1.5.0",
            "description_tooltip": null,
            "_model_module": "@jupyter-widgets/controls",
            "layout": "IPY_MODEL_48eb0ce7ea384ef2af1909fdc22cbad2"
          }
        },
        "5d4aa5ccac5c4ba4b8326a1288e076a4": {
          "model_module": "@jupyter-widgets/controls",
          "model_name": "ProgressStyleModel",
          "state": {
            "_view_name": "StyleView",
            "_model_name": "ProgressStyleModel",
            "description_width": "initial",
            "_view_module": "@jupyter-widgets/base",
            "_model_module_version": "1.5.0",
            "_view_count": null,
            "_view_module_version": "1.2.0",
            "bar_color": null,
            "_model_module": "@jupyter-widgets/controls"
          }
        },
        "6655a61d7fdf4a289f5b3df3aa8f4dfd": {
          "model_module": "@jupyter-widgets/base",
          "model_name": "LayoutModel",
          "state": {
            "_view_name": "LayoutView",
            "grid_template_rows": null,
            "right": null,
            "justify_content": null,
            "_view_module": "@jupyter-widgets/base",
            "overflow": null,
            "_model_module_version": "1.2.0",
            "_view_count": null,
            "flex_flow": null,
            "width": null,
            "min_width": null,
            "border": null,
            "align_items": null,
            "bottom": null,
            "_model_module": "@jupyter-widgets/base",
            "top": null,
            "grid_column": null,
            "overflow_y": null,
            "overflow_x": null,
            "grid_auto_flow": null,
            "grid_area": null,
            "grid_template_columns": null,
            "flex": null,
            "_model_name": "LayoutModel",
            "justify_items": null,
            "grid_row": null,
            "max_height": null,
            "align_content": null,
            "visibility": null,
            "align_self": null,
            "height": null,
            "min_height": null,
            "padding": null,
            "grid_auto_rows": null,
            "grid_gap": null,
            "max_width": null,
            "order": null,
            "_view_module_version": "1.2.0",
            "grid_template_areas": null,
            "object_position": null,
            "object_fit": null,
            "grid_auto_columns": null,
            "margin": null,
            "display": null,
            "left": null
          }
        },
        "a24651bea7674a01b0e16c8da0718ba3": {
          "model_module": "@jupyter-widgets/controls",
          "model_name": "DescriptionStyleModel",
          "state": {
            "_view_name": "StyleView",
            "_model_name": "DescriptionStyleModel",
            "description_width": "",
            "_view_module": "@jupyter-widgets/base",
            "_model_module_version": "1.5.0",
            "_view_count": null,
            "_view_module_version": "1.2.0",
            "_model_module": "@jupyter-widgets/controls"
          }
        },
        "48eb0ce7ea384ef2af1909fdc22cbad2": {
          "model_module": "@jupyter-widgets/base",
          "model_name": "LayoutModel",
          "state": {
            "_view_name": "LayoutView",
            "grid_template_rows": null,
            "right": null,
            "justify_content": null,
            "_view_module": "@jupyter-widgets/base",
            "overflow": null,
            "_model_module_version": "1.2.0",
            "_view_count": null,
            "flex_flow": null,
            "width": null,
            "min_width": null,
            "border": null,
            "align_items": null,
            "bottom": null,
            "_model_module": "@jupyter-widgets/base",
            "top": null,
            "grid_column": null,
            "overflow_y": null,
            "overflow_x": null,
            "grid_auto_flow": null,
            "grid_area": null,
            "grid_template_columns": null,
            "flex": null,
            "_model_name": "LayoutModel",
            "justify_items": null,
            "grid_row": null,
            "max_height": null,
            "align_content": null,
            "visibility": null,
            "align_self": null,
            "height": null,
            "min_height": null,
            "padding": null,
            "grid_auto_rows": null,
            "grid_gap": null,
            "max_width": null,
            "order": null,
            "_view_module_version": "1.2.0",
            "grid_template_areas": null,
            "object_position": null,
            "object_fit": null,
            "grid_auto_columns": null,
            "margin": null,
            "display": null,
            "left": null
          }
        },
        "f6079c2626674e8eb5b3b8b6011e6312": {
          "model_module": "@jupyter-widgets/controls",
          "model_name": "HBoxModel",
          "state": {
            "_view_name": "HBoxView",
            "_dom_classes": [],
            "_model_name": "HBoxModel",
            "_view_module": "@jupyter-widgets/controls",
            "_model_module_version": "1.5.0",
            "_view_count": null,
            "_view_module_version": "1.5.0",
            "box_style": "",
            "layout": "IPY_MODEL_3c2541515378496d91d4633c8942796f",
            "_model_module": "@jupyter-widgets/controls",
            "children": [
              "IPY_MODEL_53e924d9c6684831bd7dee92af733de0",
              "IPY_MODEL_5f7b457be4854594b09aaade2aa3e798"
            ]
          }
        },
        "3c2541515378496d91d4633c8942796f": {
          "model_module": "@jupyter-widgets/base",
          "model_name": "LayoutModel",
          "state": {
            "_view_name": "LayoutView",
            "grid_template_rows": null,
            "right": null,
            "justify_content": null,
            "_view_module": "@jupyter-widgets/base",
            "overflow": null,
            "_model_module_version": "1.2.0",
            "_view_count": null,
            "flex_flow": null,
            "width": null,
            "min_width": null,
            "border": null,
            "align_items": null,
            "bottom": null,
            "_model_module": "@jupyter-widgets/base",
            "top": null,
            "grid_column": null,
            "overflow_y": null,
            "overflow_x": null,
            "grid_auto_flow": null,
            "grid_area": null,
            "grid_template_columns": null,
            "flex": null,
            "_model_name": "LayoutModel",
            "justify_items": null,
            "grid_row": null,
            "max_height": null,
            "align_content": null,
            "visibility": null,
            "align_self": null,
            "height": null,
            "min_height": null,
            "padding": null,
            "grid_auto_rows": null,
            "grid_gap": null,
            "max_width": null,
            "order": null,
            "_view_module_version": "1.2.0",
            "grid_template_areas": null,
            "object_position": null,
            "object_fit": null,
            "grid_auto_columns": null,
            "margin": null,
            "display": null,
            "left": null
          }
        },
        "53e924d9c6684831bd7dee92af733de0": {
          "model_module": "@jupyter-widgets/controls",
          "model_name": "FloatProgressModel",
          "state": {
            "_view_name": "ProgressView",
            "style": "IPY_MODEL_f1e5574b93c04b558350c19ebe3b1c54",
            "_dom_classes": [],
            "description": "100%",
            "_model_name": "FloatProgressModel",
            "bar_style": "success",
            "max": 3914,
            "_view_module": "@jupyter-widgets/controls",
            "_model_module_version": "1.5.0",
            "value": 3914,
            "_view_count": null,
            "_view_module_version": "1.5.0",
            "orientation": "horizontal",
            "min": 0,
            "description_tooltip": null,
            "_model_module": "@jupyter-widgets/controls",
            "layout": "IPY_MODEL_006a925cc7d448b2b920fefda850bd79"
          }
        },
        "5f7b457be4854594b09aaade2aa3e798": {
          "model_module": "@jupyter-widgets/controls",
          "model_name": "HTMLModel",
          "state": {
            "_view_name": "HTMLView",
            "style": "IPY_MODEL_9a5a2992a5294349a646376ac5b8931a",
            "_dom_classes": [],
            "description": "",
            "_model_name": "HTMLModel",
            "placeholder": "​",
            "_view_module": "@jupyter-widgets/controls",
            "_model_module_version": "1.5.0",
            "value": " 3914/3914 [03:40&lt;00:00, 17.72it/s]",
            "_view_count": null,
            "_view_module_version": "1.5.0",
            "description_tooltip": null,
            "_model_module": "@jupyter-widgets/controls",
            "layout": "IPY_MODEL_24ceb53d112b44b696bc79e56ebb2a96"
          }
        },
        "f1e5574b93c04b558350c19ebe3b1c54": {
          "model_module": "@jupyter-widgets/controls",
          "model_name": "ProgressStyleModel",
          "state": {
            "_view_name": "StyleView",
            "_model_name": "ProgressStyleModel",
            "description_width": "initial",
            "_view_module": "@jupyter-widgets/base",
            "_model_module_version": "1.5.0",
            "_view_count": null,
            "_view_module_version": "1.2.0",
            "bar_color": null,
            "_model_module": "@jupyter-widgets/controls"
          }
        },
        "006a925cc7d448b2b920fefda850bd79": {
          "model_module": "@jupyter-widgets/base",
          "model_name": "LayoutModel",
          "state": {
            "_view_name": "LayoutView",
            "grid_template_rows": null,
            "right": null,
            "justify_content": null,
            "_view_module": "@jupyter-widgets/base",
            "overflow": null,
            "_model_module_version": "1.2.0",
            "_view_count": null,
            "flex_flow": null,
            "width": null,
            "min_width": null,
            "border": null,
            "align_items": null,
            "bottom": null,
            "_model_module": "@jupyter-widgets/base",
            "top": null,
            "grid_column": null,
            "overflow_y": null,
            "overflow_x": null,
            "grid_auto_flow": null,
            "grid_area": null,
            "grid_template_columns": null,
            "flex": null,
            "_model_name": "LayoutModel",
            "justify_items": null,
            "grid_row": null,
            "max_height": null,
            "align_content": null,
            "visibility": null,
            "align_self": null,
            "height": null,
            "min_height": null,
            "padding": null,
            "grid_auto_rows": null,
            "grid_gap": null,
            "max_width": null,
            "order": null,
            "_view_module_version": "1.2.0",
            "grid_template_areas": null,
            "object_position": null,
            "object_fit": null,
            "grid_auto_columns": null,
            "margin": null,
            "display": null,
            "left": null
          }
        },
        "9a5a2992a5294349a646376ac5b8931a": {
          "model_module": "@jupyter-widgets/controls",
          "model_name": "DescriptionStyleModel",
          "state": {
            "_view_name": "StyleView",
            "_model_name": "DescriptionStyleModel",
            "description_width": "",
            "_view_module": "@jupyter-widgets/base",
            "_model_module_version": "1.5.0",
            "_view_count": null,
            "_view_module_version": "1.2.0",
            "_model_module": "@jupyter-widgets/controls"
          }
        },
        "24ceb53d112b44b696bc79e56ebb2a96": {
          "model_module": "@jupyter-widgets/base",
          "model_name": "LayoutModel",
          "state": {
            "_view_name": "LayoutView",
            "grid_template_rows": null,
            "right": null,
            "justify_content": null,
            "_view_module": "@jupyter-widgets/base",
            "overflow": null,
            "_model_module_version": "1.2.0",
            "_view_count": null,
            "flex_flow": null,
            "width": null,
            "min_width": null,
            "border": null,
            "align_items": null,
            "bottom": null,
            "_model_module": "@jupyter-widgets/base",
            "top": null,
            "grid_column": null,
            "overflow_y": null,
            "overflow_x": null,
            "grid_auto_flow": null,
            "grid_area": null,
            "grid_template_columns": null,
            "flex": null,
            "_model_name": "LayoutModel",
            "justify_items": null,
            "grid_row": null,
            "max_height": null,
            "align_content": null,
            "visibility": null,
            "align_self": null,
            "height": null,
            "min_height": null,
            "padding": null,
            "grid_auto_rows": null,
            "grid_gap": null,
            "max_width": null,
            "order": null,
            "_view_module_version": "1.2.0",
            "grid_template_areas": null,
            "object_position": null,
            "object_fit": null,
            "grid_auto_columns": null,
            "margin": null,
            "display": null,
            "left": null
          }
        },
        "46a511aa30044f0883195034b76ca173": {
          "model_module": "@jupyter-widgets/controls",
          "model_name": "HBoxModel",
          "state": {
            "_view_name": "HBoxView",
            "_dom_classes": [],
            "_model_name": "HBoxModel",
            "_view_module": "@jupyter-widgets/controls",
            "_model_module_version": "1.5.0",
            "_view_count": null,
            "_view_module_version": "1.5.0",
            "box_style": "",
            "layout": "IPY_MODEL_c90a6aea98ce4e67946a625506506629",
            "_model_module": "@jupyter-widgets/controls",
            "children": [
              "IPY_MODEL_98145d112267496bba5e9dc5ec064399",
              "IPY_MODEL_9a262a73e3344a329b935cd2c29a0e3b"
            ]
          }
        },
        "c90a6aea98ce4e67946a625506506629": {
          "model_module": "@jupyter-widgets/base",
          "model_name": "LayoutModel",
          "state": {
            "_view_name": "LayoutView",
            "grid_template_rows": null,
            "right": null,
            "justify_content": null,
            "_view_module": "@jupyter-widgets/base",
            "overflow": null,
            "_model_module_version": "1.2.0",
            "_view_count": null,
            "flex_flow": null,
            "width": null,
            "min_width": null,
            "border": null,
            "align_items": null,
            "bottom": null,
            "_model_module": "@jupyter-widgets/base",
            "top": null,
            "grid_column": null,
            "overflow_y": null,
            "overflow_x": null,
            "grid_auto_flow": null,
            "grid_area": null,
            "grid_template_columns": null,
            "flex": null,
            "_model_name": "LayoutModel",
            "justify_items": null,
            "grid_row": null,
            "max_height": null,
            "align_content": null,
            "visibility": null,
            "align_self": null,
            "height": null,
            "min_height": null,
            "padding": null,
            "grid_auto_rows": null,
            "grid_gap": null,
            "max_width": null,
            "order": null,
            "_view_module_version": "1.2.0",
            "grid_template_areas": null,
            "object_position": null,
            "object_fit": null,
            "grid_auto_columns": null,
            "margin": null,
            "display": null,
            "left": null
          }
        },
        "98145d112267496bba5e9dc5ec064399": {
          "model_module": "@jupyter-widgets/controls",
          "model_name": "FloatProgressModel",
          "state": {
            "_view_name": "ProgressView",
            "style": "IPY_MODEL_e196c1ee0cbf45348245224648e8ef0d",
            "_dom_classes": [],
            "description": "100%",
            "_model_name": "FloatProgressModel",
            "bar_style": "success",
            "max": 1678,
            "_view_module": "@jupyter-widgets/controls",
            "_model_module_version": "1.5.0",
            "value": 1678,
            "_view_count": null,
            "_view_module_version": "1.5.0",
            "orientation": "horizontal",
            "min": 0,
            "description_tooltip": null,
            "_model_module": "@jupyter-widgets/controls",
            "layout": "IPY_MODEL_195744b9a79b494c8094951f2252c844"
          }
        },
        "9a262a73e3344a329b935cd2c29a0e3b": {
          "model_module": "@jupyter-widgets/controls",
          "model_name": "HTMLModel",
          "state": {
            "_view_name": "HTMLView",
            "style": "IPY_MODEL_248fbafe6d8a4abcafca12fd7f37a233",
            "_dom_classes": [],
            "description": "",
            "_model_name": "HTMLModel",
            "placeholder": "​",
            "_view_module": "@jupyter-widgets/controls",
            "_model_module_version": "1.5.0",
            "value": " 1678/1678 [04:53&lt;00:00,  5.72it/s]",
            "_view_count": null,
            "_view_module_version": "1.5.0",
            "description_tooltip": null,
            "_model_module": "@jupyter-widgets/controls",
            "layout": "IPY_MODEL_ac4bec5e3f0b4731808398cec2e0b7d0"
          }
        },
        "e196c1ee0cbf45348245224648e8ef0d": {
          "model_module": "@jupyter-widgets/controls",
          "model_name": "ProgressStyleModel",
          "state": {
            "_view_name": "StyleView",
            "_model_name": "ProgressStyleModel",
            "description_width": "initial",
            "_view_module": "@jupyter-widgets/base",
            "_model_module_version": "1.5.0",
            "_view_count": null,
            "_view_module_version": "1.2.0",
            "bar_color": null,
            "_model_module": "@jupyter-widgets/controls"
          }
        },
        "195744b9a79b494c8094951f2252c844": {
          "model_module": "@jupyter-widgets/base",
          "model_name": "LayoutModel",
          "state": {
            "_view_name": "LayoutView",
            "grid_template_rows": null,
            "right": null,
            "justify_content": null,
            "_view_module": "@jupyter-widgets/base",
            "overflow": null,
            "_model_module_version": "1.2.0",
            "_view_count": null,
            "flex_flow": null,
            "width": null,
            "min_width": null,
            "border": null,
            "align_items": null,
            "bottom": null,
            "_model_module": "@jupyter-widgets/base",
            "top": null,
            "grid_column": null,
            "overflow_y": null,
            "overflow_x": null,
            "grid_auto_flow": null,
            "grid_area": null,
            "grid_template_columns": null,
            "flex": null,
            "_model_name": "LayoutModel",
            "justify_items": null,
            "grid_row": null,
            "max_height": null,
            "align_content": null,
            "visibility": null,
            "align_self": null,
            "height": null,
            "min_height": null,
            "padding": null,
            "grid_auto_rows": null,
            "grid_gap": null,
            "max_width": null,
            "order": null,
            "_view_module_version": "1.2.0",
            "grid_template_areas": null,
            "object_position": null,
            "object_fit": null,
            "grid_auto_columns": null,
            "margin": null,
            "display": null,
            "left": null
          }
        },
        "248fbafe6d8a4abcafca12fd7f37a233": {
          "model_module": "@jupyter-widgets/controls",
          "model_name": "DescriptionStyleModel",
          "state": {
            "_view_name": "StyleView",
            "_model_name": "DescriptionStyleModel",
            "description_width": "",
            "_view_module": "@jupyter-widgets/base",
            "_model_module_version": "1.5.0",
            "_view_count": null,
            "_view_module_version": "1.2.0",
            "_model_module": "@jupyter-widgets/controls"
          }
        },
        "ac4bec5e3f0b4731808398cec2e0b7d0": {
          "model_module": "@jupyter-widgets/base",
          "model_name": "LayoutModel",
          "state": {
            "_view_name": "LayoutView",
            "grid_template_rows": null,
            "right": null,
            "justify_content": null,
            "_view_module": "@jupyter-widgets/base",
            "overflow": null,
            "_model_module_version": "1.2.0",
            "_view_count": null,
            "flex_flow": null,
            "width": null,
            "min_width": null,
            "border": null,
            "align_items": null,
            "bottom": null,
            "_model_module": "@jupyter-widgets/base",
            "top": null,
            "grid_column": null,
            "overflow_y": null,
            "overflow_x": null,
            "grid_auto_flow": null,
            "grid_area": null,
            "grid_template_columns": null,
            "flex": null,
            "_model_name": "LayoutModel",
            "justify_items": null,
            "grid_row": null,
            "max_height": null,
            "align_content": null,
            "visibility": null,
            "align_self": null,
            "height": null,
            "min_height": null,
            "padding": null,
            "grid_auto_rows": null,
            "grid_gap": null,
            "max_width": null,
            "order": null,
            "_view_module_version": "1.2.0",
            "grid_template_areas": null,
            "object_position": null,
            "object_fit": null,
            "grid_auto_columns": null,
            "margin": null,
            "display": null,
            "left": null
          }
        },
        "8c8e9c801d7845469abcdcf616096ef5": {
          "model_module": "@jupyter-widgets/controls",
          "model_name": "HBoxModel",
          "state": {
            "_view_name": "HBoxView",
            "_dom_classes": [],
            "_model_name": "HBoxModel",
            "_view_module": "@jupyter-widgets/controls",
            "_model_module_version": "1.5.0",
            "_view_count": null,
            "_view_module_version": "1.5.0",
            "box_style": "",
            "layout": "IPY_MODEL_80dc216ea7354915b7b2890abc142bd8",
            "_model_module": "@jupyter-widgets/controls",
            "children": [
              "IPY_MODEL_2afe1e27091f449c9aba6cddbefee370",
              "IPY_MODEL_1e3ab4b954c6407ba943490bf133f76e"
            ]
          }
        },
        "80dc216ea7354915b7b2890abc142bd8": {
          "model_module": "@jupyter-widgets/base",
          "model_name": "LayoutModel",
          "state": {
            "_view_name": "LayoutView",
            "grid_template_rows": null,
            "right": null,
            "justify_content": null,
            "_view_module": "@jupyter-widgets/base",
            "overflow": null,
            "_model_module_version": "1.2.0",
            "_view_count": null,
            "flex_flow": null,
            "width": null,
            "min_width": null,
            "border": null,
            "align_items": null,
            "bottom": null,
            "_model_module": "@jupyter-widgets/base",
            "top": null,
            "grid_column": null,
            "overflow_y": null,
            "overflow_x": null,
            "grid_auto_flow": null,
            "grid_area": null,
            "grid_template_columns": null,
            "flex": null,
            "_model_name": "LayoutModel",
            "justify_items": null,
            "grid_row": null,
            "max_height": null,
            "align_content": null,
            "visibility": null,
            "align_self": null,
            "height": null,
            "min_height": null,
            "padding": null,
            "grid_auto_rows": null,
            "grid_gap": null,
            "max_width": null,
            "order": null,
            "_view_module_version": "1.2.0",
            "grid_template_areas": null,
            "object_position": null,
            "object_fit": null,
            "grid_auto_columns": null,
            "margin": null,
            "display": null,
            "left": null
          }
        },
        "2afe1e27091f449c9aba6cddbefee370": {
          "model_module": "@jupyter-widgets/controls",
          "model_name": "FloatProgressModel",
          "state": {
            "_view_name": "ProgressView",
            "style": "IPY_MODEL_0f2704d1f0af46dead1cdb4b98358b7e",
            "_dom_classes": [],
            "description": "100%",
            "_model_name": "FloatProgressModel",
            "bar_style": "success",
            "max": 1263,
            "_view_module": "@jupyter-widgets/controls",
            "_model_module_version": "1.5.0",
            "value": 1263,
            "_view_count": null,
            "_view_module_version": "1.5.0",
            "orientation": "horizontal",
            "min": 0,
            "description_tooltip": null,
            "_model_module": "@jupyter-widgets/controls",
            "layout": "IPY_MODEL_a5e2f3521c28443787f7d6ceb02a455d"
          }
        },
        "1e3ab4b954c6407ba943490bf133f76e": {
          "model_module": "@jupyter-widgets/controls",
          "model_name": "HTMLModel",
          "state": {
            "_view_name": "HTMLView",
            "style": "IPY_MODEL_1febd023b95b4db2918884b62eb08b28",
            "_dom_classes": [],
            "description": "",
            "_model_name": "HTMLModel",
            "placeholder": "​",
            "_view_module": "@jupyter-widgets/controls",
            "_model_module_version": "1.5.0",
            "value": " 1263/1263 [18:52&lt;00:00,  1.12it/s]",
            "_view_count": null,
            "_view_module_version": "1.5.0",
            "description_tooltip": null,
            "_model_module": "@jupyter-widgets/controls",
            "layout": "IPY_MODEL_04c3457a99454df4b64e9711686d95e8"
          }
        },
        "0f2704d1f0af46dead1cdb4b98358b7e": {
          "model_module": "@jupyter-widgets/controls",
          "model_name": "ProgressStyleModel",
          "state": {
            "_view_name": "StyleView",
            "_model_name": "ProgressStyleModel",
            "description_width": "initial",
            "_view_module": "@jupyter-widgets/base",
            "_model_module_version": "1.5.0",
            "_view_count": null,
            "_view_module_version": "1.2.0",
            "bar_color": null,
            "_model_module": "@jupyter-widgets/controls"
          }
        },
        "a5e2f3521c28443787f7d6ceb02a455d": {
          "model_module": "@jupyter-widgets/base",
          "model_name": "LayoutModel",
          "state": {
            "_view_name": "LayoutView",
            "grid_template_rows": null,
            "right": null,
            "justify_content": null,
            "_view_module": "@jupyter-widgets/base",
            "overflow": null,
            "_model_module_version": "1.2.0",
            "_view_count": null,
            "flex_flow": null,
            "width": null,
            "min_width": null,
            "border": null,
            "align_items": null,
            "bottom": null,
            "_model_module": "@jupyter-widgets/base",
            "top": null,
            "grid_column": null,
            "overflow_y": null,
            "overflow_x": null,
            "grid_auto_flow": null,
            "grid_area": null,
            "grid_template_columns": null,
            "flex": null,
            "_model_name": "LayoutModel",
            "justify_items": null,
            "grid_row": null,
            "max_height": null,
            "align_content": null,
            "visibility": null,
            "align_self": null,
            "height": null,
            "min_height": null,
            "padding": null,
            "grid_auto_rows": null,
            "grid_gap": null,
            "max_width": null,
            "order": null,
            "_view_module_version": "1.2.0",
            "grid_template_areas": null,
            "object_position": null,
            "object_fit": null,
            "grid_auto_columns": null,
            "margin": null,
            "display": null,
            "left": null
          }
        },
        "1febd023b95b4db2918884b62eb08b28": {
          "model_module": "@jupyter-widgets/controls",
          "model_name": "DescriptionStyleModel",
          "state": {
            "_view_name": "StyleView",
            "_model_name": "DescriptionStyleModel",
            "description_width": "",
            "_view_module": "@jupyter-widgets/base",
            "_model_module_version": "1.5.0",
            "_view_count": null,
            "_view_module_version": "1.2.0",
            "_model_module": "@jupyter-widgets/controls"
          }
        },
        "04c3457a99454df4b64e9711686d95e8": {
          "model_module": "@jupyter-widgets/base",
          "model_name": "LayoutModel",
          "state": {
            "_view_name": "LayoutView",
            "grid_template_rows": null,
            "right": null,
            "justify_content": null,
            "_view_module": "@jupyter-widgets/base",
            "overflow": null,
            "_model_module_version": "1.2.0",
            "_view_count": null,
            "flex_flow": null,
            "width": null,
            "min_width": null,
            "border": null,
            "align_items": null,
            "bottom": null,
            "_model_module": "@jupyter-widgets/base",
            "top": null,
            "grid_column": null,
            "overflow_y": null,
            "overflow_x": null,
            "grid_auto_flow": null,
            "grid_area": null,
            "grid_template_columns": null,
            "flex": null,
            "_model_name": "LayoutModel",
            "justify_items": null,
            "grid_row": null,
            "max_height": null,
            "align_content": null,
            "visibility": null,
            "align_self": null,
            "height": null,
            "min_height": null,
            "padding": null,
            "grid_auto_rows": null,
            "grid_gap": null,
            "max_width": null,
            "order": null,
            "_view_module_version": "1.2.0",
            "grid_template_areas": null,
            "object_position": null,
            "object_fit": null,
            "grid_auto_columns": null,
            "margin": null,
            "display": null,
            "left": null
          }
        }
      }
    }
  },
  "cells": [
    {
      "cell_type": "code",
      "metadata": {
        "colab": {
          "base_uri": "https://localhost:8080/"
        },
        "id": "q6r61fY8z0FW",
        "outputId": "c048fdb3-fddf-41ed-e55b-a6587dd5786e"
      },
      "source": [
        "!pip install --upgrade --force-reinstall --no-deps kaggle"
      ],
      "execution_count": null,
      "outputs": [
        {
          "output_type": "stream",
          "text": [
            "Collecting kaggle\n",
            "\u001b[?25l  Downloading https://files.pythonhosted.org/packages/3a/e7/3bac01547d2ed3d308ac92a0878fbdb0ed0f3d41fb1906c319ccbba1bfbc/kaggle-1.5.12.tar.gz (58kB)\n",
            "\r\u001b[K     |█████▋                          | 10kB 14.9MB/s eta 0:00:01\r\u001b[K     |███████████▏                    | 20kB 18.0MB/s eta 0:00:01\r\u001b[K     |████████████████▊               | 30kB 21.4MB/s eta 0:00:01\r\u001b[K     |██████████████████████▎         | 40kB 24.7MB/s eta 0:00:01\r\u001b[K     |███████████████████████████▉    | 51kB 27.4MB/s eta 0:00:01\r\u001b[K     |████████████████████████████████| 61kB 6.1MB/s \n",
            "\u001b[?25hBuilding wheels for collected packages: kaggle\n",
            "  Building wheel for kaggle (setup.py) ... \u001b[?25l\u001b[?25hdone\n",
            "  Created wheel for kaggle: filename=kaggle-1.5.12-cp37-none-any.whl size=73053 sha256=78c2ca7fe5e3c42bd0904e824c74390fdfe8e63e024565f1581132229382a2e5\n",
            "  Stored in directory: /root/.cache/pip/wheels/a1/6a/26/d30b7499ff85a4a4593377a87ecf55f7d08af42f0de9b60303\n",
            "Successfully built kaggle\n",
            "Installing collected packages: kaggle\n",
            "  Found existing installation: kaggle 1.5.12\n",
            "    Uninstalling kaggle-1.5.12:\n",
            "      Successfully uninstalled kaggle-1.5.12\n",
            "Successfully installed kaggle-1.5.12\n"
          ],
          "name": "stdout"
        }
      ]
    },
    {
      "cell_type": "code",
      "metadata": {
        "colab": {
          "base_uri": "https://localhost:8080/"
        },
        "id": "AEgBMBl9Q-KQ",
        "outputId": "8799f9b1-ea0f-4aaa-9be0-ae476d9b322d"
      },
      "source": [
        "!kaggle competitions download siim-covid19-detection -p /content/drive/MyDrive/KaggleDatasets/CovidDetection"
      ],
      "execution_count": null,
      "outputs": [
        {
          "output_type": "stream",
          "text": [
            "Downloading siim-covid19-detection.zip to /content/drive/MyDrive/KaggleDatasets/CovidDetection\n",
            "100% 83.2G/83.2G [17:55<00:00, 109MB/s]\n",
            "100% 83.2G/83.2G [17:55<00:00, 83.1MB/s]\n"
          ],
          "name": "stdout"
        }
      ]
    },
    {
      "cell_type": "code",
      "metadata": {
        "id": "qBYrBQSyyV1a"
      },
      "source": [
        "!cp kaggle.json ~/.kaggle/"
      ],
      "execution_count": null,
      "outputs": []
    },
    {
      "cell_type": "code",
      "metadata": {
        "id": "6TpvW0Ilyewx"
      },
      "source": [
        "!chmod 600 ~/.kaggle/kaggle.json"
      ],
      "execution_count": null,
      "outputs": []
    },
    {
      "cell_type": "code",
      "metadata": {
        "id": "hSULUThmzANA"
      },
      "source": [
        "import zipfile"
      ],
      "execution_count": null,
      "outputs": []
    },
    {
      "cell_type": "code",
      "metadata": {
        "id": "XKbiUsK97L2E"
      },
      "source": [
        "zip_ref = zipfile.ZipFile(\"/content/drive/MyDrive/KaggleDatasets/CovidDetection/siim-covid19-detection.zip\", 'r')\n",
        "zip_ref.extractall(\"/content/drive/MyDrive/KaggleDatasets/CovidDetection/\")\n",
        "zip_ref.close()"
      ],
      "execution_count": null,
      "outputs": []
    },
    {
      "cell_type": "code",
      "metadata": {
        "id": "p0wcyE4v7dRC"
      },
      "source": [
        "import pandas as pd\n",
        "import numpy as np\n",
        "from glob import glob\n",
        "from tqdm.notebook import tqdm"
      ],
      "execution_count": null,
      "outputs": []
    },
    {
      "cell_type": "code",
      "metadata": {
        "id": "Fo3X4Rw2wpOv"
      },
      "source": [
        "training_img_path = '/content/drive/MyDrive/KaggleDatasets/CovidDetection/train/'\n",
        "testing_img_path = '/content/drive/MyDrive/KaggleDatasets/CovidDetection/test/'\n",
        "image_level_ds_path = '/content/drive/MyDrive/KaggleDatasets/CovidDetection/train_image_level.csv'\n",
        "study_level_ds_path = '/content/drive/MyDrive/KaggleDatasets/CovidDetection/train_study_level.csv'"
      ],
      "execution_count": null,
      "outputs": []
    },
    {
      "cell_type": "code",
      "metadata": {
        "colab": {
          "base_uri": "https://localhost:8080/",
          "height": 204
        },
        "id": "Y_G8t7pkz9x7",
        "outputId": "76c63d73-2bfb-4ec6-dc35-69d3870d45e0"
      },
      "source": [
        "image_level_df = pd.read_csv(image_level_ds_path)\n",
        "image_level_df['id'] = image_level_df.apply(lambda row: row.id.split('_')[0], axis=1)\n",
        "image_level_df.head()"
      ],
      "execution_count": null,
      "outputs": [
        {
          "output_type": "execute_result",
          "data": {
            "text/html": [
              "<div>\n",
              "<style scoped>\n",
              "    .dataframe tbody tr th:only-of-type {\n",
              "        vertical-align: middle;\n",
              "    }\n",
              "\n",
              "    .dataframe tbody tr th {\n",
              "        vertical-align: top;\n",
              "    }\n",
              "\n",
              "    .dataframe thead th {\n",
              "        text-align: right;\n",
              "    }\n",
              "</style>\n",
              "<table border=\"1\" class=\"dataframe\">\n",
              "  <thead>\n",
              "    <tr style=\"text-align: right;\">\n",
              "      <th></th>\n",
              "      <th>id</th>\n",
              "      <th>boxes</th>\n",
              "      <th>label</th>\n",
              "      <th>StudyInstanceUID</th>\n",
              "    </tr>\n",
              "  </thead>\n",
              "  <tbody>\n",
              "    <tr>\n",
              "      <th>0</th>\n",
              "      <td>000a312787f2</td>\n",
              "      <td>[{'x': 789.28836, 'y': 582.43035, 'width': 102...</td>\n",
              "      <td>opacity 1 789.28836 582.43035 1815.94498 2499....</td>\n",
              "      <td>5776db0cec75</td>\n",
              "    </tr>\n",
              "    <tr>\n",
              "      <th>1</th>\n",
              "      <td>000c3a3f293f</td>\n",
              "      <td>NaN</td>\n",
              "      <td>none 1 0 0 1 1</td>\n",
              "      <td>ff0879eb20ed</td>\n",
              "    </tr>\n",
              "    <tr>\n",
              "      <th>2</th>\n",
              "      <td>0012ff7358bc</td>\n",
              "      <td>[{'x': 677.42216, 'y': 197.97662, 'width': 867...</td>\n",
              "      <td>opacity 1 677.42216 197.97662 1545.21983 1197....</td>\n",
              "      <td>9d514ce429a7</td>\n",
              "    </tr>\n",
              "    <tr>\n",
              "      <th>3</th>\n",
              "      <td>001398f4ff4f</td>\n",
              "      <td>[{'x': 2729, 'y': 2181.33331, 'width': 948.000...</td>\n",
              "      <td>opacity 1 2729 2181.33331 3677.00012 2785.33331</td>\n",
              "      <td>28dddc8559b2</td>\n",
              "    </tr>\n",
              "    <tr>\n",
              "      <th>4</th>\n",
              "      <td>001bd15d1891</td>\n",
              "      <td>[{'x': 623.23328, 'y': 1050, 'width': 714, 'he...</td>\n",
              "      <td>opacity 1 623.23328 1050 1337.23328 2156 opaci...</td>\n",
              "      <td>dfd9fdd85a3e</td>\n",
              "    </tr>\n",
              "  </tbody>\n",
              "</table>\n",
              "</div>"
            ],
            "text/plain": [
              "             id  ... StudyInstanceUID\n",
              "0  000a312787f2  ...     5776db0cec75\n",
              "1  000c3a3f293f  ...     ff0879eb20ed\n",
              "2  0012ff7358bc  ...     9d514ce429a7\n",
              "3  001398f4ff4f  ...     28dddc8559b2\n",
              "4  001bd15d1891  ...     dfd9fdd85a3e\n",
              "\n",
              "[5 rows x 4 columns]"
            ]
          },
          "metadata": {
            "tags": []
          },
          "execution_count": 4
        }
      ]
    },
    {
      "cell_type": "code",
      "metadata": {
        "colab": {
          "base_uri": "https://localhost:8080/"
        },
        "id": "nnoOUq-D-1r5",
        "outputId": "0c72290a-c5e1-48c3-997f-d8259c5f10f1"
      },
      "source": [
        "image_level_df.shape"
      ],
      "execution_count": null,
      "outputs": [
        {
          "output_type": "execute_result",
          "data": {
            "text/plain": [
              "(6334, 4)"
            ]
          },
          "metadata": {
            "tags": []
          },
          "execution_count": 4
        }
      ]
    },
    {
      "cell_type": "code",
      "metadata": {
        "colab": {
          "base_uri": "https://localhost:8080/"
        },
        "id": "tkPhU4ZwlIBb",
        "outputId": "62f72f33-5404-45be-d9a2-e3239d7cd6cc"
      },
      "source": [
        "image_level_df['StudyInstanceUID'].unique().shape"
      ],
      "execution_count": null,
      "outputs": [
        {
          "output_type": "execute_result",
          "data": {
            "text/plain": [
              "(6054,)"
            ]
          },
          "metadata": {
            "tags": []
          },
          "execution_count": 5
        }
      ]
    },
    {
      "cell_type": "code",
      "metadata": {
        "colab": {
          "base_uri": "https://localhost:8080/"
        },
        "id": "TEWoDxQ3wuNs",
        "outputId": "368f57dc-4718-41dd-dbd7-8c48079e38a3"
      },
      "source": [
        "image_level_df.isna().sum()"
      ],
      "execution_count": null,
      "outputs": [
        {
          "output_type": "execute_result",
          "data": {
            "text/plain": [
              "id                     0\n",
              "boxes               2040\n",
              "label                  0\n",
              "StudyInstanceUID       0\n",
              "dtype: int64"
            ]
          },
          "metadata": {
            "tags": []
          },
          "execution_count": 6
        }
      ]
    },
    {
      "cell_type": "code",
      "metadata": {
        "colab": {
          "base_uri": "https://localhost:8080/",
          "height": 204
        },
        "id": "SFTcyIQj0J2c",
        "outputId": "202d765a-d97e-4f86-c582-85c09e76ccf2"
      },
      "source": [
        "study_level_df = pd.read_csv(study_level_ds_path)\n",
        "study_level_df['id'] = study_level_df.apply(lambda r: r.id.split('_')[0], axis=1)\n",
        "study_level_df.head()"
      ],
      "execution_count": null,
      "outputs": [
        {
          "output_type": "execute_result",
          "data": {
            "text/html": [
              "<div>\n",
              "<style scoped>\n",
              "    .dataframe tbody tr th:only-of-type {\n",
              "        vertical-align: middle;\n",
              "    }\n",
              "\n",
              "    .dataframe tbody tr th {\n",
              "        vertical-align: top;\n",
              "    }\n",
              "\n",
              "    .dataframe thead th {\n",
              "        text-align: right;\n",
              "    }\n",
              "</style>\n",
              "<table border=\"1\" class=\"dataframe\">\n",
              "  <thead>\n",
              "    <tr style=\"text-align: right;\">\n",
              "      <th></th>\n",
              "      <th>id</th>\n",
              "      <th>Negative for Pneumonia</th>\n",
              "      <th>Typical Appearance</th>\n",
              "      <th>Indeterminate Appearance</th>\n",
              "      <th>Atypical Appearance</th>\n",
              "    </tr>\n",
              "  </thead>\n",
              "  <tbody>\n",
              "    <tr>\n",
              "      <th>0</th>\n",
              "      <td>00086460a852</td>\n",
              "      <td>0</td>\n",
              "      <td>1</td>\n",
              "      <td>0</td>\n",
              "      <td>0</td>\n",
              "    </tr>\n",
              "    <tr>\n",
              "      <th>1</th>\n",
              "      <td>000c9c05fd14</td>\n",
              "      <td>0</td>\n",
              "      <td>0</td>\n",
              "      <td>0</td>\n",
              "      <td>1</td>\n",
              "    </tr>\n",
              "    <tr>\n",
              "      <th>2</th>\n",
              "      <td>00292f8c37bd</td>\n",
              "      <td>1</td>\n",
              "      <td>0</td>\n",
              "      <td>0</td>\n",
              "      <td>0</td>\n",
              "    </tr>\n",
              "    <tr>\n",
              "      <th>3</th>\n",
              "      <td>005057b3f880</td>\n",
              "      <td>1</td>\n",
              "      <td>0</td>\n",
              "      <td>0</td>\n",
              "      <td>0</td>\n",
              "    </tr>\n",
              "    <tr>\n",
              "      <th>4</th>\n",
              "      <td>0051d9b12e72</td>\n",
              "      <td>0</td>\n",
              "      <td>0</td>\n",
              "      <td>0</td>\n",
              "      <td>1</td>\n",
              "    </tr>\n",
              "  </tbody>\n",
              "</table>\n",
              "</div>"
            ],
            "text/plain": [
              "             id  ...  Atypical Appearance\n",
              "0  00086460a852  ...                    0\n",
              "1  000c9c05fd14  ...                    1\n",
              "2  00292f8c37bd  ...                    0\n",
              "3  005057b3f880  ...                    0\n",
              "4  0051d9b12e72  ...                    1\n",
              "\n",
              "[5 rows x 5 columns]"
            ]
          },
          "metadata": {
            "tags": []
          },
          "execution_count": 5
        }
      ]
    },
    {
      "cell_type": "code",
      "metadata": {
        "colab": {
          "base_uri": "https://localhost:8080/"
        },
        "id": "QAZWx6jZ-wdG",
        "outputId": "bec14d2d-7512-419c-d788-2474b01f9e8a"
      },
      "source": [
        "study_level_df.shape"
      ],
      "execution_count": null,
      "outputs": [
        {
          "output_type": "execute_result",
          "data": {
            "text/plain": [
              "(6054, 5)"
            ]
          },
          "metadata": {
            "tags": []
          },
          "execution_count": 8
        }
      ]
    },
    {
      "cell_type": "code",
      "metadata": {
        "colab": {
          "base_uri": "https://localhost:8080/"
        },
        "id": "G9ouIm7KuJh0",
        "outputId": "d5519470-a154-4078-9c1c-2a5a6ad02b52"
      },
      "source": [
        "study_level_df.id.unique().shape"
      ],
      "execution_count": null,
      "outputs": [
        {
          "output_type": "execute_result",
          "data": {
            "text/plain": [
              "(6054,)"
            ]
          },
          "metadata": {
            "tags": []
          },
          "execution_count": 9
        }
      ]
    },
    {
      "cell_type": "code",
      "metadata": {
        "colab": {
          "base_uri": "https://localhost:8080/"
        },
        "id": "vDfFG2JHw2jL",
        "outputId": "624d9532-522e-46ab-f179-37d50fc13a9a"
      },
      "source": [
        "study_level_df.isna().sum()"
      ],
      "execution_count": null,
      "outputs": [
        {
          "output_type": "execute_result",
          "data": {
            "text/plain": [
              "id                          0\n",
              "Negative for Pneumonia      0\n",
              "Typical Appearance          0\n",
              "Indeterminate Appearance    0\n",
              "Atypical Appearance         0\n",
              "dtype: int64"
            ]
          },
          "metadata": {
            "tags": []
          },
          "execution_count": 10
        }
      ]
    },
    {
      "cell_type": "code",
      "metadata": {
        "colab": {
          "base_uri": "https://localhost:8080/"
        },
        "id": "my9P9OzBECbU",
        "outputId": "4cef96fc-5459-42c2-cace-c26ceeb843d6"
      },
      "source": [
        "image_level_df_dd = image_level_df.drop_duplicates(subset=['StudyInstanceUID'],keep='last')\n",
        "image_level_df_dd.shape"
      ],
      "execution_count": null,
      "outputs": [
        {
          "output_type": "execute_result",
          "data": {
            "text/plain": [
              "(6054, 4)"
            ]
          },
          "metadata": {
            "tags": []
          },
          "execution_count": 6
        }
      ]
    },
    {
      "cell_type": "code",
      "metadata": {
        "colab": {
          "base_uri": "https://localhost:8080/",
          "height": 665
        },
        "id": "ANHA8LpsEU2-",
        "outputId": "89cb5c5a-cfc7-4143-da86-70ff229eec31"
      },
      "source": [
        "merged_df = image_level_df_dd.merge(study_level_df, left_on='StudyInstanceUID', right_on='id')\n",
        "merged_df.head(10)"
      ],
      "execution_count": null,
      "outputs": [
        {
          "output_type": "execute_result",
          "data": {
            "text/html": [
              "<div>\n",
              "<style scoped>\n",
              "    .dataframe tbody tr th:only-of-type {\n",
              "        vertical-align: middle;\n",
              "    }\n",
              "\n",
              "    .dataframe tbody tr th {\n",
              "        vertical-align: top;\n",
              "    }\n",
              "\n",
              "    .dataframe thead th {\n",
              "        text-align: right;\n",
              "    }\n",
              "</style>\n",
              "<table border=\"1\" class=\"dataframe\">\n",
              "  <thead>\n",
              "    <tr style=\"text-align: right;\">\n",
              "      <th></th>\n",
              "      <th>id_x</th>\n",
              "      <th>boxes</th>\n",
              "      <th>label</th>\n",
              "      <th>StudyInstanceUID</th>\n",
              "      <th>id_y</th>\n",
              "      <th>Negative for Pneumonia</th>\n",
              "      <th>Typical Appearance</th>\n",
              "      <th>Indeterminate Appearance</th>\n",
              "      <th>Atypical Appearance</th>\n",
              "    </tr>\n",
              "  </thead>\n",
              "  <tbody>\n",
              "    <tr>\n",
              "      <th>0</th>\n",
              "      <td>000a312787f2</td>\n",
              "      <td>[{'x': 789.28836, 'y': 582.43035, 'width': 102...</td>\n",
              "      <td>opacity 1 789.28836 582.43035 1815.94498 2499....</td>\n",
              "      <td>5776db0cec75</td>\n",
              "      <td>5776db0cec75</td>\n",
              "      <td>0</td>\n",
              "      <td>1</td>\n",
              "      <td>0</td>\n",
              "      <td>0</td>\n",
              "    </tr>\n",
              "    <tr>\n",
              "      <th>1</th>\n",
              "      <td>000c3a3f293f</td>\n",
              "      <td>NaN</td>\n",
              "      <td>none 1 0 0 1 1</td>\n",
              "      <td>ff0879eb20ed</td>\n",
              "      <td>ff0879eb20ed</td>\n",
              "      <td>1</td>\n",
              "      <td>0</td>\n",
              "      <td>0</td>\n",
              "      <td>0</td>\n",
              "    </tr>\n",
              "    <tr>\n",
              "      <th>2</th>\n",
              "      <td>0012ff7358bc</td>\n",
              "      <td>[{'x': 677.42216, 'y': 197.97662, 'width': 867...</td>\n",
              "      <td>opacity 1 677.42216 197.97662 1545.21983 1197....</td>\n",
              "      <td>9d514ce429a7</td>\n",
              "      <td>9d514ce429a7</td>\n",
              "      <td>0</td>\n",
              "      <td>1</td>\n",
              "      <td>0</td>\n",
              "      <td>0</td>\n",
              "    </tr>\n",
              "    <tr>\n",
              "      <th>3</th>\n",
              "      <td>001398f4ff4f</td>\n",
              "      <td>[{'x': 2729, 'y': 2181.33331, 'width': 948.000...</td>\n",
              "      <td>opacity 1 2729 2181.33331 3677.00012 2785.33331</td>\n",
              "      <td>28dddc8559b2</td>\n",
              "      <td>28dddc8559b2</td>\n",
              "      <td>0</td>\n",
              "      <td>0</td>\n",
              "      <td>0</td>\n",
              "      <td>1</td>\n",
              "    </tr>\n",
              "    <tr>\n",
              "      <th>4</th>\n",
              "      <td>001bd15d1891</td>\n",
              "      <td>[{'x': 623.23328, 'y': 1050, 'width': 714, 'he...</td>\n",
              "      <td>opacity 1 623.23328 1050 1337.23328 2156 opaci...</td>\n",
              "      <td>dfd9fdd85a3e</td>\n",
              "      <td>dfd9fdd85a3e</td>\n",
              "      <td>0</td>\n",
              "      <td>1</td>\n",
              "      <td>0</td>\n",
              "      <td>0</td>\n",
              "    </tr>\n",
              "    <tr>\n",
              "      <th>5</th>\n",
              "      <td>0022227f5adf</td>\n",
              "      <td>[{'x': 1857.2065, 'y': 508.30565, 'width': 376...</td>\n",
              "      <td>opacity 1 1857.2065 508.30565 2233.23384 907.8...</td>\n",
              "      <td>84543edc24c2</td>\n",
              "      <td>84543edc24c2</td>\n",
              "      <td>0</td>\n",
              "      <td>0</td>\n",
              "      <td>1</td>\n",
              "      <td>0</td>\n",
              "    </tr>\n",
              "    <tr>\n",
              "      <th>6</th>\n",
              "      <td>0023f02ae886</td>\n",
              "      <td>NaN</td>\n",
              "      <td>none 1 0 0 1 1</td>\n",
              "      <td>2fa400b873f5</td>\n",
              "      <td>2fa400b873f5</td>\n",
              "      <td>1</td>\n",
              "      <td>0</td>\n",
              "      <td>0</td>\n",
              "      <td>0</td>\n",
              "    </tr>\n",
              "    <tr>\n",
              "      <th>7</th>\n",
              "      <td>002e9b2128d0</td>\n",
              "      <td>[{'x': 276.72917, 'y': 627.42968, 'width': 910...</td>\n",
              "      <td>opacity 1 276.72917 627.42968 1187.31776 2283....</td>\n",
              "      <td>0717c8ac304f</td>\n",
              "      <td>0717c8ac304f</td>\n",
              "      <td>0</td>\n",
              "      <td>1</td>\n",
              "      <td>0</td>\n",
              "      <td>0</td>\n",
              "    </tr>\n",
              "    <tr>\n",
              "      <th>8</th>\n",
              "      <td>00326161e51e</td>\n",
              "      <td>[{'x': 542.96057, 'y': 364.37257, 'width': 590...</td>\n",
              "      <td>opacity 1 542.96057 364.37257 1133.32317999999...</td>\n",
              "      <td>a81050391441</td>\n",
              "      <td>a81050391441</td>\n",
              "      <td>0</td>\n",
              "      <td>1</td>\n",
              "      <td>0</td>\n",
              "      <td>0</td>\n",
              "    </tr>\n",
              "    <tr>\n",
              "      <th>9</th>\n",
              "      <td>0044e449aae1</td>\n",
              "      <td>[{'x': 1703.78756, 'y': 938.29333, 'width': 91...</td>\n",
              "      <td>opacity 1 1703.78756 938.29333 2614.8275599999...</td>\n",
              "      <td>b60f2d2cc642</td>\n",
              "      <td>b60f2d2cc642</td>\n",
              "      <td>0</td>\n",
              "      <td>1</td>\n",
              "      <td>0</td>\n",
              "      <td>0</td>\n",
              "    </tr>\n",
              "  </tbody>\n",
              "</table>\n",
              "</div>"
            ],
            "text/plain": [
              "           id_x  ... Atypical Appearance\n",
              "0  000a312787f2  ...                   0\n",
              "1  000c3a3f293f  ...                   0\n",
              "2  0012ff7358bc  ...                   0\n",
              "3  001398f4ff4f  ...                   1\n",
              "4  001bd15d1891  ...                   0\n",
              "5  0022227f5adf  ...                   0\n",
              "6  0023f02ae886  ...                   0\n",
              "7  002e9b2128d0  ...                   0\n",
              "8  00326161e51e  ...                   0\n",
              "9  0044e449aae1  ...                   0\n",
              "\n",
              "[10 rows x 9 columns]"
            ]
          },
          "metadata": {
            "tags": []
          },
          "execution_count": 8
        }
      ]
    },
    {
      "cell_type": "code",
      "metadata": {
        "colab": {
          "base_uri": "https://localhost:8080/"
        },
        "id": "aZ6I2JZPwBKC",
        "outputId": "b2c7beff-b21b-4ff1-e9af-2f88a05f800c"
      },
      "source": [
        "merged_df.info()"
      ],
      "execution_count": null,
      "outputs": [
        {
          "output_type": "stream",
          "text": [
            "<class 'pandas.core.frame.DataFrame'>\n",
            "Int64Index: 6054 entries, 0 to 6053\n",
            "Data columns (total 9 columns):\n",
            " #   Column                    Non-Null Count  Dtype \n",
            "---  ------                    --------------  ----- \n",
            " 0   id_x                      6054 non-null   object\n",
            " 1   boxes                     4205 non-null   object\n",
            " 2   label                     6054 non-null   object\n",
            " 3   StudyInstanceUID          6054 non-null   object\n",
            " 4   id_y                      6054 non-null   object\n",
            " 5   Negative for Pneumonia    6054 non-null   int64 \n",
            " 6   Typical Appearance        6054 non-null   int64 \n",
            " 7   Indeterminate Appearance  6054 non-null   int64 \n",
            " 8   Atypical Appearance       6054 non-null   int64 \n",
            "dtypes: int64(4), object(5)\n",
            "memory usage: 633.0+ KB\n"
          ],
          "name": "stdout"
        }
      ]
    },
    {
      "cell_type": "code",
      "metadata": {
        "colab": {
          "base_uri": "https://localhost:8080/"
        },
        "id": "nOziysTVGE11",
        "outputId": "7729f86d-26e9-41bf-c693-8060206a79d8"
      },
      "source": [
        "merged_df.shape"
      ],
      "execution_count": null,
      "outputs": [
        {
          "output_type": "execute_result",
          "data": {
            "text/plain": [
              "(6054, 9)"
            ]
          },
          "metadata": {
            "tags": []
          },
          "execution_count": 13
        }
      ]
    },
    {
      "cell_type": "code",
      "metadata": {
        "colab": {
          "base_uri": "https://localhost:8080/",
          "height": 173
        },
        "id": "obDX8obSHZMr",
        "outputId": "609daf20-30c5-4485-e1cf-0cc4426ca5e6"
      },
      "source": [
        "classes = list(merged_df.columns)[-4:]\n",
        "count_dic = []\n",
        "for c in classes:\n",
        "  count_dic.append([c,(merged_df[c].values == 1).sum()])\n",
        "count_df = pd.DataFrame(count_dic, columns=['columns','counts'])\n",
        "count_df"
      ],
      "execution_count": null,
      "outputs": [
        {
          "output_type": "execute_result",
          "data": {
            "text/html": [
              "<div>\n",
              "<style scoped>\n",
              "    .dataframe tbody tr th:only-of-type {\n",
              "        vertical-align: middle;\n",
              "    }\n",
              "\n",
              "    .dataframe tbody tr th {\n",
              "        vertical-align: top;\n",
              "    }\n",
              "\n",
              "    .dataframe thead th {\n",
              "        text-align: right;\n",
              "    }\n",
              "</style>\n",
              "<table border=\"1\" class=\"dataframe\">\n",
              "  <thead>\n",
              "    <tr style=\"text-align: right;\">\n",
              "      <th></th>\n",
              "      <th>columns</th>\n",
              "      <th>counts</th>\n",
              "    </tr>\n",
              "  </thead>\n",
              "  <tbody>\n",
              "    <tr>\n",
              "      <th>0</th>\n",
              "      <td>Negative for Pneumonia</td>\n",
              "      <td>1676</td>\n",
              "    </tr>\n",
              "    <tr>\n",
              "      <th>1</th>\n",
              "      <td>Typical Appearance</td>\n",
              "      <td>2855</td>\n",
              "    </tr>\n",
              "    <tr>\n",
              "      <th>2</th>\n",
              "      <td>Indeterminate Appearance</td>\n",
              "      <td>1049</td>\n",
              "    </tr>\n",
              "    <tr>\n",
              "      <th>3</th>\n",
              "      <td>Atypical Appearance</td>\n",
              "      <td>474</td>\n",
              "    </tr>\n",
              "  </tbody>\n",
              "</table>\n",
              "</div>"
            ],
            "text/plain": [
              "                    columns  counts\n",
              "0    Negative for Pneumonia    1676\n",
              "1        Typical Appearance    2855\n",
              "2  Indeterminate Appearance    1049\n",
              "3       Atypical Appearance     474"
            ]
          },
          "metadata": {
            "tags": []
          },
          "execution_count": 9
        }
      ]
    },
    {
      "cell_type": "code",
      "metadata": {
        "id": "N41rSfTjTOjp"
      },
      "source": [
        "np.save('classes.npy', np.array(classes))"
      ],
      "execution_count": null,
      "outputs": []
    },
    {
      "cell_type": "code",
      "metadata": {
        "id": "frUYdgM_TxZF"
      },
      "source": [
        "!cp classes.npy /content/drive/MyDrive/KaggleDatasets/CovidDetection/"
      ],
      "execution_count": null,
      "outputs": []
    },
    {
      "cell_type": "code",
      "metadata": {
        "colab": {
          "base_uri": "https://localhost:8080/"
        },
        "id": "u2hibmW6Gynf",
        "outputId": "6281c073-19cd-405b-a1f9-1d80368330de"
      },
      "source": [
        "merged_df.isna().sum()"
      ],
      "execution_count": null,
      "outputs": [
        {
          "output_type": "execute_result",
          "data": {
            "text/plain": [
              "id_x                           0\n",
              "boxes                       1849\n",
              "label                          0\n",
              "StudyInstanceUID               0\n",
              "id_y                           0\n",
              "Negative for Pneumonia         0\n",
              "Typical Appearance             0\n",
              "Indeterminate Appearance       0\n",
              "Atypical Appearance            0\n",
              "dtype: int64"
            ]
          },
          "metadata": {
            "tags": []
          },
          "execution_count": 14
        }
      ]
    },
    {
      "cell_type": "code",
      "metadata": {
        "id": "DOzEtVF8E4bU"
      },
      "source": [
        "merged_df.boxes.fillna(\"[{'x': 0, 'y': 0, 'width': 0, 'height': 0}]\", inplace=True)"
      ],
      "execution_count": null,
      "outputs": []
    },
    {
      "cell_type": "code",
      "metadata": {
        "colab": {
          "base_uri": "https://localhost:8080/"
        },
        "id": "AXgHwSuywieo",
        "outputId": "ce3ca4d4-6f77-4e5c-ec6a-9296a41c7d46"
      },
      "source": [
        "merged_df.isna().sum()"
      ],
      "execution_count": null,
      "outputs": [
        {
          "output_type": "execute_result",
          "data": {
            "text/plain": [
              "id_x                        0\n",
              "boxes                       0\n",
              "label                       0\n",
              "StudyInstanceUID            0\n",
              "id_y                        0\n",
              "Negative for Pneumonia      0\n",
              "Typical Appearance          0\n",
              "Indeterminate Appearance    0\n",
              "Atypical Appearance         0\n",
              "dtype: int64"
            ]
          },
          "metadata": {
            "tags": []
          },
          "execution_count": 28
        }
      ]
    },
    {
      "cell_type": "code",
      "metadata": {
        "colab": {
          "base_uri": "https://localhost:8080/"
        },
        "id": "QXhobt0t2RW8",
        "outputId": "f9ec5ab8-f4c9-4ab3-cab3-ffad14298de0"
      },
      "source": [
        "targets = merged_df.iloc[:, -4:].values\n",
        "targets.shape"
      ],
      "execution_count": null,
      "outputs": [
        {
          "output_type": "execute_result",
          "data": {
            "text/plain": [
              "(6054, 4)"
            ]
          },
          "metadata": {
            "tags": []
          },
          "execution_count": 9
        }
      ]
    },
    {
      "cell_type": "code",
      "metadata": {
        "id": "nCit2vwpCkFv",
        "colab": {
          "base_uri": "https://localhost:8080/"
        },
        "outputId": "ede89874-01fb-47e3-d4da-da0f33434129"
      },
      "source": [
        "!pip install pydicom"
      ],
      "execution_count": 45,
      "outputs": [
        {
          "output_type": "stream",
          "text": [
            "Collecting pydicom\n",
            "  Downloading pydicom-2.1.2-py3-none-any.whl (1.9 MB)\n",
            "\u001b[K     |████████████████████████████████| 1.9 MB 9.0 MB/s \n",
            "\u001b[?25hInstalling collected packages: pydicom\n",
            "Successfully installed pydicom-2.1.2\n"
          ],
          "name": "stdout"
        }
      ]
    },
    {
      "cell_type": "code",
      "metadata": {
        "id": "EhDYeRGrgLoM",
        "colab": {
          "base_uri": "https://localhost:8080/"
        },
        "outputId": "84402ee3-c13d-4240-859c-885c594f4d5d"
      },
      "source": [
        "!pip install h5py"
      ],
      "execution_count": 46,
      "outputs": [
        {
          "output_type": "stream",
          "text": [
            "Requirement already satisfied: h5py in /usr/local/lib/python3.7/dist-packages (3.1.0)\n",
            "Requirement already satisfied: numpy>=1.14.5 in /usr/local/lib/python3.7/dist-packages (from h5py) (1.19.5)\n",
            "Requirement already satisfied: cached-property in /usr/local/lib/python3.7/dist-packages (from h5py) (1.5.2)\n"
          ],
          "name": "stdout"
        }
      ]
    },
    {
      "cell_type": "code",
      "metadata": {
        "id": "TDYeTWTm4gsX",
        "colab": {
          "base_uri": "https://localhost:8080/"
        },
        "outputId": "7dde049b-ab79-4c3e-d02a-6cd39388ece2"
      },
      "source": [
        "!pip install pylibjpeg pylibjpeg-libjpeg "
      ],
      "execution_count": 49,
      "outputs": [
        {
          "output_type": "stream",
          "text": [
            "Collecting pylibjpeg\n",
            "  Downloading pylibjpeg-1.3.0-py3-none-any.whl (28 kB)\n",
            "Collecting pylibjpeg-libjpeg\n",
            "  Downloading pylibjpeg_libjpeg-1.2.0-cp37-cp37m-manylinux2010_x86_64.whl (4.2 MB)\n",
            "\u001b[K     |████████████████████████████████| 4.2 MB 13.2 MB/s \n",
            "\u001b[?25hRequirement already satisfied: numpy in /usr/local/lib/python3.7/dist-packages (from pylibjpeg) (1.19.5)\n",
            "Collecting pylibjpeg-openjpeg\n",
            "  Downloading pylibjpeg_openjpeg-1.1.1-cp37-cp37m-manylinux2010_x86_64.whl (3.6 MB)\n",
            "\u001b[K     |████████████████████████████████| 3.6 MB 75.0 MB/s \n",
            "\u001b[?25hCollecting pylibjpeg-rle\n",
            "  Downloading pylibjpeg_rle-1.1.0-cp37-cp37m-manylinux2010_x86_64.whl (884 kB)\n",
            "\u001b[K     |████████████████████████████████| 884 kB 43.5 MB/s \n",
            "\u001b[?25hInstalling collected packages: pylibjpeg-rle, pylibjpeg-openjpeg, pylibjpeg-libjpeg, pylibjpeg\n",
            "Successfully installed pylibjpeg-1.3.0 pylibjpeg-libjpeg-1.2.0 pylibjpeg-openjpeg-1.1.1 pylibjpeg-rle-1.1.0\n"
          ],
          "name": "stdout"
        }
      ]
    },
    {
      "cell_type": "code",
      "metadata": {
        "id": "B7HJ87DaAe-b"
      },
      "source": [
        "import cv2\n",
        "import matplotlib.pyplot as plt\n",
        "from skimage.color import gray2rgb\n",
        "import pydicom as dicom\n",
        "from pydicom import dcmread\n",
        "import numpy as np"
      ],
      "execution_count": 47,
      "outputs": []
    },
    {
      "cell_type": "markdown",
      "metadata": {
        "id": "sb82-k1hDADW"
      },
      "source": [
        "\n",
        "\n",
        "```\n",
        "if i < 10:\n",
        "    dcm_path = f'{traini_l1_paths[i]}{row[0]}.dcm'\n",
        "    print(dcm_path)\n",
        "    bboxs = eval(row[1])\n",
        "    print(list(bboxs[0].values()))\n",
        "    print(targets[i])\n",
        "  else:\n",
        "    break\n",
        "```\n",
        "\n"
      ]
    },
    {
      "cell_type": "markdown",
      "metadata": {
        "id": "g_9aftE0rq3C"
      },
      "source": [
        "\n",
        "\n",
        "```\n",
        "# This error code\n",
        "\n",
        "image_data = []\n",
        "image_names = []\n",
        "bbox_targets = []\n",
        "clf_targets = []\n",
        "for i, row in tqdm(enumerate(merged_df.values)):\n",
        "  bboxs = eval(row[1])\n",
        "  bbox_targets.append(list(bboxs[0].values()))\n",
        "  clf_targets.append(targets[i])\n",
        "  image_names.append(row[0])\n",
        "  dcm_path = f'{traini_l1_paths[i]}{row[0]}.dcm'\n",
        "  ds = dicom.dcmread(dcm_path)\n",
        "  image = np.array(ds.pixel_array)\n",
        "  image = cv2.cvtColor(image, cv2.COLOR_GRAY2RGB)\n",
        "  image_data.append(image)\n",
        "```\n",
        "\n"
      ]
    },
    {
      "cell_type": "code",
      "metadata": {
        "id": "bcQhU_C3CTYt"
      },
      "source": [
        "image_size = (224,224)"
      ],
      "execution_count": null,
      "outputs": []
    },
    {
      "cell_type": "code",
      "metadata": {
        "colab": {
          "base_uri": "https://localhost:8080/",
          "height": 120,
          "referenced_widgets": [
            "74f05dd0b5834dc79e2a6ddd5f3e817a",
            "a04275c5e84845b7a0582f932e58dfc3",
            "188e97500f954fe18a1faefd3092f98d",
            "5c0c7e45d27e4046af104f2131da680a",
            "5d4aa5ccac5c4ba4b8326a1288e076a4",
            "6655a61d7fdf4a289f5b3df3aa8f4dfd",
            "a24651bea7674a01b0e16c8da0718ba3",
            "48eb0ce7ea384ef2af1909fdc22cbad2"
          ]
        },
        "id": "Dq3RUpX0ytAU",
        "outputId": "65aeb707-aa3c-4729-9be0-3522ebace518"
      },
      "source": [
        "image_data = []\n",
        "image_names = []\n",
        "bbox_targets = []\n",
        "clf_targets = []\n",
        "for i, row in tqdm(enumerate(merged_df.values)):\n",
        "  try:\n",
        "    l1_path = f'{training_img_path}{row[3]}' # creating path for fetching image l1\n",
        "    l2_path = glob(f'{l1_path}/*') # creating path for fetching image l2\n",
        "    dcm_path = f'{l2_path[0]}/{row[0]}.dcm' # creating final path for fetching image\n",
        "    ds = dcmread(dcm_path) # reading image from the created path\n",
        "    image = np.array(ds.pixel_array) # converting image pixels into numpy array\n",
        "    ih, iw = image.shape\n",
        "    bboxs = eval(row[1]) #converting String into list of dict\n",
        "    x,y,w,h = list(bboxs[0].values())\n",
        "    x,y,w,h = (x/iw),(y/ih),(w/iw),(h/ih)\n",
        "    image = cv2.resize(image, image_size) # resizing image\n",
        "    image = cv2.cvtColor(image, cv2.COLOR_GRAY2RGB) #convert to 3 channel\n",
        "    image_data.append(image) # appending the converted image to data\n",
        "    bbox_targets.append([x,y,w,h]) # getting first dict value and getting its value for bbox\n",
        "    image_names.append(row[0]) # adding file name to the processed data\n",
        "    clf_targets.append(targets[i]) # adding one hot encode target values to the perticular images\n",
        "  except:\n",
        "    pass\n",
        " "
      ],
      "execution_count": null,
      "outputs": [
        {
          "output_type": "display_data",
          "data": {
            "application/vnd.jupyter.widget-view+json": {
              "model_id": "74f05dd0b5834dc79e2a6ddd5f3e817a",
              "version_minor": 0,
              "version_major": 2
            },
            "text/plain": [
              "HBox(children=(FloatProgress(value=1.0, bar_style='info', max=1.0), HTML(value='')))"
            ]
          },
          "metadata": {
            "tags": []
          }
        },
        {
          "output_type": "stream",
          "text": [
            "/usr/local/lib/python3.7/dist-packages/pydicom/pixel_data_handlers/numpy_handler.py:341: UserWarning: The length of the pixel data in the dataset (13262360 bytes) indicates it contains excess padding. 216296 bytes will be removed from the end of the data\n",
            "  warnings.warn(msg)\n"
          ],
          "name": "stderr"
        },
        {
          "output_type": "stream",
          "text": [
            "\n"
          ],
          "name": "stdout"
        }
      ]
    },
    {
      "cell_type": "code",
      "metadata": {
        "id": "HTIbA510f8vE"
      },
      "source": [
        "import h5py"
      ],
      "execution_count": null,
      "outputs": []
    },
    {
      "cell_type": "code",
      "metadata": {
        "id": "hOsaLAxafTQw"
      },
      "source": [
        "dt = h5py.special_dtype(vlen=str)\n",
        "image_data = np.array(image_data, dtype=\"float32\")\n",
        "image_names = np.array(image_names, dtype=dt)\n",
        "bbox_targets = np.array(bbox_targets, dtype=\"float32\")\n",
        "clf_targets = np.array(clf_targets)"
      ],
      "execution_count": null,
      "outputs": []
    },
    {
      "cell_type": "code",
      "metadata": {
        "colab": {
          "base_uri": "https://localhost:8080/"
        },
        "id": "W5rks8PmfdDh",
        "outputId": "7bda4d7b-c610-4fe4-dd36-3c4ff643a78f"
      },
      "source": [
        "image_data.shape, image_names.shape, bbox_targets.shape, clf_targets.shape"
      ],
      "execution_count": null,
      "outputs": [
        {
          "output_type": "execute_result",
          "data": {
            "text/plain": [
              "((5592, 224, 224, 3), (5592,), (5592, 4), (5592, 4))"
            ]
          },
          "metadata": {
            "tags": []
          },
          "execution_count": 19
        }
      ]
    },
    {
      "cell_type": "code",
      "metadata": {
        "id": "xgACP0S7hy6D"
      },
      "source": [
        "with h5py.File(\"CovidDetectionTrainingData.h5\", 'w') as f:\n",
        "  f.create_dataset(\"data_images\", data=image_data)\n",
        "  f.create_dataset(\"data_target_cc\", data=clf_targets)\n",
        "  f.create_dataset(\"data_targets_bbox\", data=bbox_targets)\n",
        "  f.create_dataset(\"data_file_names\", data=image_names)"
      ],
      "execution_count": null,
      "outputs": []
    },
    {
      "cell_type": "code",
      "metadata": {
        "id": "-14lXdzIrDwI"
      },
      "source": [
        "!cp CovidDetectionTrainingData.h5 /content/drive/MyDrive/KaggleDatasets/CovidDetection/"
      ],
      "execution_count": null,
      "outputs": []
    },
    {
      "cell_type": "code",
      "metadata": {
        "colab": {
          "base_uri": "https://localhost:8080/"
        },
        "id": "sySX4sAc96G_",
        "outputId": "90f9e772-90ac-4c0c-de18-b91670b103e1"
      },
      "source": [
        "i = 6\n",
        "targets[i][np.argmax(targets[i])],np.argmax(targets[i]),classes[np.argmax(targets[i])]"
      ],
      "execution_count": null,
      "outputs": [
        {
          "output_type": "execute_result",
          "data": {
            "text/plain": [
              "(1, 0, 'Negative for Pneumonia')"
            ]
          },
          "metadata": {
            "tags": []
          },
          "execution_count": 35
        }
      ]
    },
    {
      "cell_type": "code",
      "metadata": {
        "colab": {
          "base_uri": "https://localhost:8080/"
        },
        "id": "Xri8NUKMtfI6",
        "outputId": "d0032e40-a1ea-41f0-9f40-218accee91e1"
      },
      "source": [
        "clf_targets[6], bbox_targets[6]"
      ],
      "execution_count": null,
      "outputs": [
        {
          "output_type": "execute_result",
          "data": {
            "text/plain": [
              "(array([1, 0, 0, 0]), array([0., 0., 0., 0.], dtype=float32))"
            ]
          },
          "metadata": {
            "tags": []
          },
          "execution_count": 36
        }
      ]
    },
    {
      "cell_type": "markdown",
      "metadata": {
        "id": "9ydVB6rCZhQE"
      },
      "source": [
        "### **<u>Processing Data and Model Building</u>**"
      ]
    },
    {
      "cell_type": "code",
      "metadata": {
        "id": "-nJFoagbthN7"
      },
      "source": [
        "import pandas as pd\n",
        "import numpy as np\n",
        "import h5py\n",
        "import matplotlib.pyplot as plt\n",
        "from sklearn.model_selection import train_test_split\n",
        "from sklearn.preprocessing import LabelEncoder, LabelBinarizer, OneHotEncoder\n",
        "from sklearn.metrics import confusion_matrix, classification_report\n",
        "from tensorflow.keras.layers import Conv2D, MaxPool2D, BatchNormalization, Dense, Activation, Flatten, Dropout, Input\n",
        "from tensorflow.keras.applications import VGG19 as PTM_19, VGG16 as PTM_16\n",
        "from keras.models import Sequential\n",
        "from keras.models import Model\n",
        "from tensorflow.keras.callbacks import ModelCheckpoint, EarlyStopping, ReduceLROnPlateau\n",
        "from tensorflow.keras.optimizers import Adam as adm , SGD as sgd\n",
        "from tensorflow.keras.applications.vgg16 import preprocess_input as input16\n",
        "from tensorflow.keras.applications.vgg19 import preprocess_input as input19\n",
        "import matplotlib.patches as patches\n",
        "from keras.utils.vis_utils import plot_model\n",
        "import tensorflow as tf\n",
        "from tqdm.notebook import tqdm "
      ],
      "execution_count": null,
      "outputs": []
    },
    {
      "cell_type": "code",
      "metadata": {
        "id": "gRpfovA0bW2L"
      },
      "source": [
        "def show_top_images_with_lables(images, lables, plot_random=True):\n",
        "  columns = 4\n",
        "  rows = 5\n",
        "  fig=plt.figure(figsize=(12, 17))\n",
        "  for i in range(1, columns*rows +1):\n",
        "    index = None\n",
        "    if plot_random == True:\n",
        "      index = randint(0, (len(lables)-1))\n",
        "    else:\n",
        "      index = i\n",
        "    fig.add_subplot(rows, columns, i).set_title(lables[index-1])\n",
        "    plt.imshow((images[index-1] * 255), cmap='gray')\n",
        "  return plt.show()"
      ],
      "execution_count": null,
      "outputs": []
    },
    {
      "cell_type": "code",
      "metadata": {
        "id": "Zzn9wgTzZxNA"
      },
      "source": [
        "h5file_path = '/content/drive/MyDrive/KaggleDatasets/CovidDetection/CovidDetectionTrainingData.h5'\n",
        "classes_file_path = '/content/drive/MyDrive/KaggleDatasets/CovidDetection/classes.npy'"
      ],
      "execution_count": null,
      "outputs": []
    },
    {
      "cell_type": "code",
      "metadata": {
        "id": "1XUN-DgSaLE9"
      },
      "source": [
        "h5Dataset = h5py.File(h5file_path, 'r')\n",
        "classes = np.load(classes_file_path)"
      ],
      "execution_count": null,
      "outputs": []
    },
    {
      "cell_type": "code",
      "metadata": {
        "colab": {
          "base_uri": "https://localhost:8080/"
        },
        "id": "6hOqq4h5allz",
        "outputId": "4a70e4a7-292c-42bf-b5ad-99493297950d"
      },
      "source": [
        "h5Dataset.keys()"
      ],
      "execution_count": null,
      "outputs": [
        {
          "output_type": "execute_result",
          "data": {
            "text/plain": [
              "<KeysViewHDF5 ['data_file_names', 'data_images', 'data_target_cc', 'data_targets_bbox']>"
            ]
          },
          "metadata": {
            "tags": []
          },
          "execution_count": 5
        }
      ]
    },
    {
      "cell_type": "code",
      "metadata": {
        "colab": {
          "base_uri": "https://localhost:8080/"
        },
        "id": "S9T0EMUran_P",
        "outputId": "485fe745-e2b0-4dd5-cf0a-ef91c0d6200f"
      },
      "source": [
        "data_file_names = h5Dataset[\"data_file_names\"][:]\n",
        "data_images = h5Dataset[\"data_images\"][:]\n",
        "data_target_cc = h5Dataset[\"data_target_cc\"][:]\n",
        "data_targets_bbox = h5Dataset[\"data_targets_bbox\"][:]\n",
        "data_file_names.shape, data_images.shape, data_target_cc.shape, data_targets_bbox.shape"
      ],
      "execution_count": null,
      "outputs": [
        {
          "output_type": "execute_result",
          "data": {
            "text/plain": [
              "((5592,), (5592, 224, 224, 3), (5592, 4), (5592, 4))"
            ]
          },
          "metadata": {
            "tags": []
          },
          "execution_count": 6
        }
      ]
    },
    {
      "cell_type": "code",
      "metadata": {
        "id": "Ew77YdTAcAxJ"
      },
      "source": [
        "data_images = input16(data_images)"
      ],
      "execution_count": null,
      "outputs": []
    },
    {
      "cell_type": "code",
      "metadata": {
        "id": "n9RScQ6Bjwow"
      },
      "source": [
        "# put together our model which accept an input image and then output\n",
        "# bounding box coordinates and a class label\n",
        "ptm_16 = PTM_16(weights=\"imagenet\", include_top=False, input_tensor=Input(shape=(224, 224, 3)))\n",
        "\n",
        "ptm_16.trainable = False # freeze all VGG16 layers so they will not be updated during the training process\n",
        "flatten = ptm_16.output \n",
        "flatten = Flatten()(flatten)  #flatten the max-pooling output of VGG16\n",
        "\n",
        "# construct a fully-connected layer header to output the predicted\n",
        "# bounding box coordinates\n",
        "bbox_layer = Dense(256, activation=\"relu\")(flatten)\n",
        "bbox_layer = Dense(128, activation=\"relu\")(bbox_layer)\n",
        "bbox_layer = Dense(64, activation=\"relu\")(bbox_layer)\n",
        "bbox_layer = Dense(4, activation=\"sigmoid\", name=\"bounding_box_layer\")(bbox_layer)\n",
        "\n",
        "# construct a second fully-connected layer head, this one to predict\n",
        "# the class label\n",
        "classification_layer = Dense(512, activation=\"relu\")(flatten)\n",
        "classification_layer = Dropout(0.5)(classification_layer)\n",
        "classification_layer = Dense(512, activation=\"relu\")(classification_layer)\n",
        "classification_layer = Dropout(0.5)(classification_layer)\n",
        "classification_layer = Dense(4, activation=\"softmax\", name=\"classification_layer\")(classification_layer)\n",
        "\n",
        "model = Model(inputs=ptm_16.input, outputs=(bbox_layer, classification_layer))"
      ],
      "execution_count": null,
      "outputs": []
    },
    {
      "cell_type": "code",
      "metadata": {
        "id": "G83QnvNMu1TT"
      },
      "source": [
        "training_testing_split = train_test_split(data_images, data_target_cc, data_targets_bbox, data_file_names, test_size=0.3, random_state=42)\n",
        "X_train_images, X_test_images = training_testing_split[:2]\n",
        "y_train_clf, y_test_clf = training_testing_split[2:4]\n",
        "y_train_bbox, y_test_bbox = training_testing_split[4:6]\n",
        "fn_train, fn_test = training_testing_split[6:]"
      ],
      "execution_count": null,
      "outputs": []
    },
    {
      "cell_type": "code",
      "metadata": {
        "colab": {
          "base_uri": "https://localhost:8080/"
        },
        "id": "YmDxZnUBxdZQ",
        "outputId": "4818a6ef-910d-47f6-ca82-2b58b38cc79d"
      },
      "source": [
        "X_train_images.shape, X_test_images.shape, y_train_clf.shape, y_test_clf.shape, y_train_bbox.shape, y_test_bbox.shape, fn_train.shape, fn_test.shape"
      ],
      "execution_count": null,
      "outputs": [
        {
          "output_type": "execute_result",
          "data": {
            "text/plain": [
              "((3914, 224, 224, 3),\n",
              " (1678, 224, 224, 3),\n",
              " (3914, 4),\n",
              " (1678, 4),\n",
              " (3914, 4),\n",
              " (1678, 4),\n",
              " (3914,),\n",
              " (1678,))"
            ]
          },
          "metadata": {
            "tags": []
          },
          "execution_count": 8
        }
      ]
    },
    {
      "cell_type": "code",
      "metadata": {
        "id": "3D8oOKgLxppu"
      },
      "source": [
        "del data_images, data_target_cc, data_targets_bbox, data_file_names"
      ],
      "execution_count": null,
      "outputs": []
    },
    {
      "cell_type": "code",
      "metadata": {
        "id": "FAFFzzViyGpA"
      },
      "source": [
        "# define a dictionary to set the loss methods\n",
        "# cross-entropy for the classification layers and mean absolute error\n",
        "# for the bounding box layers,binary_crossentropy\n",
        "losses = {\n",
        "\t\"classification_layer\": \"categorical_crossentropy\", \n",
        "\t\"bounding_box_layer\": \"mean_squared_error\"\n",
        "}"
      ],
      "execution_count": null,
      "outputs": []
    },
    {
      "cell_type": "code",
      "metadata": {
        "id": "ruxufcSuyqHc"
      },
      "source": [
        "# construct a dictionary for our target training outputs\n",
        "y_train = {\n",
        "\t\"classification_layer\": y_train_clf,\n",
        "\t\"bounding_box_layer\": y_train_bbox\n",
        "}\n",
        "# construct a second dictionary, this one for our target testing\n",
        "# outputs\n",
        "y_test = {\n",
        "\t\"classification_layer\": y_test_clf,\n",
        "\t\"bounding_box_layer\": y_test_bbox\n",
        "}"
      ],
      "execution_count": null,
      "outputs": []
    },
    {
      "cell_type": "code",
      "metadata": {
        "id": "DWM1zSnny3F0"
      },
      "source": [
        "optimizer = adm(learning_rate=1e-4)\n",
        "model.compile(loss=losses, optimizer=optimizer, metrics=[\"accuracy\"])"
      ],
      "execution_count": null,
      "outputs": []
    },
    {
      "cell_type": "code",
      "metadata": {
        "colab": {
          "base_uri": "https://localhost:8080/"
        },
        "id": "AOfARMCf3l1y",
        "outputId": "37b80152-6110-4d34-c2f3-8d82ae371e86"
      },
      "source": [
        "with tf.device(\"/device:GPU:0\"):\n",
        "  history = model.fit(X_train_images, y_train, validation_data=(X_test_images, y_test), batch_size=10, epochs=10)"
      ],
      "execution_count": null,
      "outputs": [
        {
          "output_type": "stream",
          "text": [
            "Epoch 1/10\n",
            "392/392 [==============================] - 13s 29ms/step - loss: 186.5377 - bounding_box_layer_loss: 0.1507 - classification_layer_loss: 186.3870 - bounding_box_layer_accuracy: 0.4169 - classification_layer_accuracy: 0.4073 - val_loss: 70.7341 - val_bounding_box_layer_loss: 0.0889 - val_classification_layer_loss: 70.6451 - val_bounding_box_layer_accuracy: 0.5024 - val_classification_layer_accuracy: 0.2592\n",
            "Epoch 2/10\n",
            "392/392 [==============================] - 11s 28ms/step - loss: 31.3822 - bounding_box_layer_loss: 0.0901 - classification_layer_loss: 31.2921 - bounding_box_layer_accuracy: 0.5114 - classification_layer_accuracy: 0.5258 - val_loss: 43.7937 - val_bounding_box_layer_loss: 0.0888 - val_classification_layer_loss: 43.7049 - val_bounding_box_layer_accuracy: 0.5083 - val_classification_layer_accuracy: 0.4702\n",
            "Epoch 3/10\n",
            "392/392 [==============================] - 11s 28ms/step - loss: 21.6634 - bounding_box_layer_loss: 0.0902 - classification_layer_loss: 21.5732 - bounding_box_layer_accuracy: 0.5219 - classification_layer_accuracy: 0.5981 - val_loss: 38.1202 - val_bounding_box_layer_loss: 0.0888 - val_classification_layer_loss: 38.0314 - val_bounding_box_layer_accuracy: 0.5083 - val_classification_layer_accuracy: 0.4928\n",
            "Epoch 4/10\n",
            "392/392 [==============================] - 11s 28ms/step - loss: 10.6307 - bounding_box_layer_loss: 0.0881 - classification_layer_loss: 10.5426 - bounding_box_layer_accuracy: 0.5174 - classification_layer_accuracy: 0.6632 - val_loss: 39.2544 - val_bounding_box_layer_loss: 0.0888 - val_classification_layer_loss: 39.1656 - val_bounding_box_layer_accuracy: 0.5060 - val_classification_layer_accuracy: 0.4583\n",
            "Epoch 5/10\n",
            "392/392 [==============================] - 11s 28ms/step - loss: 8.3057 - bounding_box_layer_loss: 0.0934 - classification_layer_loss: 8.2123 - bounding_box_layer_accuracy: 0.5097 - classification_layer_accuracy: 0.7071 - val_loss: 41.0667 - val_bounding_box_layer_loss: 0.0888 - val_classification_layer_loss: 40.9779 - val_bounding_box_layer_accuracy: 0.5006 - val_classification_layer_accuracy: 0.5036\n",
            "Epoch 6/10\n",
            "392/392 [==============================] - 11s 28ms/step - loss: 7.6909 - bounding_box_layer_loss: 0.0900 - classification_layer_loss: 7.6009 - bounding_box_layer_accuracy: 0.5159 - classification_layer_accuracy: 0.7253 - val_loss: 61.9999 - val_bounding_box_layer_loss: 0.0888 - val_classification_layer_loss: 61.9111 - val_bounding_box_layer_accuracy: 0.4964 - val_classification_layer_accuracy: 0.4255\n",
            "Epoch 7/10\n",
            "392/392 [==============================] - 11s 28ms/step - loss: 12.3786 - bounding_box_layer_loss: 0.0902 - classification_layer_loss: 12.2884 - bounding_box_layer_accuracy: 0.5007 - classification_layer_accuracy: 0.6647 - val_loss: 64.9674 - val_bounding_box_layer_loss: 0.0888 - val_classification_layer_loss: 64.8786 - val_bounding_box_layer_accuracy: 0.4964 - val_classification_layer_accuracy: 0.4791\n",
            "Epoch 8/10\n",
            "392/392 [==============================] - 11s 28ms/step - loss: 6.3622 - bounding_box_layer_loss: 0.0882 - classification_layer_loss: 6.2739 - bounding_box_layer_accuracy: 0.5216 - classification_layer_accuracy: 0.7504 - val_loss: 61.0748 - val_bounding_box_layer_loss: 0.0888 - val_classification_layer_loss: 60.9860 - val_bounding_box_layer_accuracy: 0.4964 - val_classification_layer_accuracy: 0.5203\n",
            "Epoch 9/10\n",
            "392/392 [==============================] - 11s 28ms/step - loss: 4.6794 - bounding_box_layer_loss: 0.0890 - classification_layer_loss: 4.5903 - bounding_box_layer_accuracy: 0.4931 - classification_layer_accuracy: 0.8063 - val_loss: 60.5325 - val_bounding_box_layer_loss: 0.0888 - val_classification_layer_loss: 60.4437 - val_bounding_box_layer_accuracy: 0.4964 - val_classification_layer_accuracy: 0.5310\n",
            "Epoch 10/10\n",
            "392/392 [==============================] - 11s 28ms/step - loss: 6.0690 - bounding_box_layer_loss: 0.0897 - classification_layer_loss: 5.9793 - bounding_box_layer_accuracy: 0.5063 - classification_layer_accuracy: 0.8141 - val_loss: 65.0593 - val_bounding_box_layer_loss: 0.0888 - val_classification_layer_loss: 64.9706 - val_bounding_box_layer_accuracy: 0.4964 - val_classification_layer_accuracy: 0.5304\n"
          ],
          "name": "stdout"
        }
      ]
    },
    {
      "cell_type": "code",
      "metadata": {
        "id": "hZ-gtMeEJ8XX"
      },
      "source": [
        "def create_model(input_shape, n_classes, optimizer='rmsprop', fine_tune=0):\n",
        "    \"\"\"\n",
        "    Compiles a model integrated with VGG16 pretrained layers\n",
        "    \n",
        "    input_shape: tuple - the shape of input images (width, height, channels)\n",
        "    n_classes: int - number of classes for the output layer\n",
        "    optimizer: string - instantiated optimizer to use for training. Defaults to 'RMSProp'\n",
        "    fine_tune: int - The number of pre-trained layers to unfreeze.\n",
        "                If set to 0, all pretrained layers will freeze during training\n",
        "    \"\"\"\n",
        "    \n",
        "    # Pretrained convolutional layers are loaded using the Imagenet weights.\n",
        "    # Include_top is set to False, in order to exclude the model's fully-connected layers.\n",
        "    conv_base = PTM_16(include_top=False,\n",
        "                     weights='imagenet', \n",
        "                     input_shape=input_shape)\n",
        "    \n",
        "    # Defines how many layers to freeze during training.\n",
        "    # Layers in the convolutional base are switched from trainable to non-trainable\n",
        "    # depending on the size of the fine-tuning parameter.\n",
        "    if fine_tune > 0:\n",
        "        for layer in conv_base.layers[:-fine_tune]:\n",
        "            layer.trainable = False\n",
        "    else:\n",
        "        for layer in conv_base.layers:\n",
        "            layer.trainable = False\n",
        "\n",
        "    # Create a new 'top' of the model (i.e. fully-connected layers).\n",
        "    # This is 'bootstrapping' a new top_model onto the pretrained layers.\n",
        "    top_model = conv_base.output\n",
        "    top_model = Flatten(name=\"flatten\")(top_model)\n",
        "    top_model = Dense(4096, activation='relu')(top_model)\n",
        "    #top_model = Dropout(0.2)(top_model)\n",
        "    top_model = Dense(1072, activation='relu')(top_model)\n",
        "    top_model = Dropout(0.2)(top_model)\n",
        "    output_layer = Dense(n_classes, activation='softmax')(top_model)\n",
        "    \n",
        "    # Group the convolutional base and new fully-connected layers into a Model object.\n",
        "    model = Model(inputs=conv_base.input, outputs=output_layer)\n",
        "\n",
        "    # Compiles the model for training.\n",
        "    model.compile(optimizer=optimizer, \n",
        "                  loss='categorical_crossentropy',\n",
        "                  metrics=['accuracy'])\n",
        "    \n",
        "    return model\n"
      ],
      "execution_count": null,
      "outputs": []
    },
    {
      "cell_type": "code",
      "metadata": {
        "id": "zX4Vr4awIzyM"
      },
      "source": [
        "input_shape = (224, 224, 3)\n",
        "optim_1 = adm(learning_rate=0.001)\n",
        "n_classes=4\n",
        "\n",
        "# First we'll train the model without Fine-tuning\n",
        "model_16 = create_model(input_shape, n_classes, optim_1, fine_tune=0)"
      ],
      "execution_count": null,
      "outputs": []
    },
    {
      "cell_type": "code",
      "metadata": {
        "colab": {
          "base_uri": "https://localhost:8080/"
        },
        "id": "HZWKQtivTg7k",
        "outputId": "5ea0397a-2a0a-47c2-f47e-b4a549f848c4"
      },
      "source": [
        "model_16.summary()"
      ],
      "execution_count": null,
      "outputs": [
        {
          "output_type": "stream",
          "text": [
            "Model: \"model\"\n",
            "_________________________________________________________________\n",
            "Layer (type)                 Output Shape              Param #   \n",
            "=================================================================\n",
            "Total params: 121,875,508\n",
            "Trainable params: 107,160,820\n",
            "Non-trainable params: 14,714,688\n",
            "_________________________________________________________________\n"
          ],
          "name": "stdout"
        }
      ]
    },
    {
      "cell_type": "code",
      "metadata": {
        "id": "Ki1TeOUbTm2l",
        "colab": {
          "base_uri": "https://localhost:8080/"
        },
        "outputId": "c1c2fe8d-d436-4a1c-c22c-f0c4399b9390"
      },
      "source": [
        "with tf.device(\"/device:GPU:0\"):\n",
        "  hist = model_16.fit(X_train_images, y_train_clf, validation_data=(X_test_images, y_test_clf), batch_size=18, epochs=20, verbose=1)"
      ],
      "execution_count": null,
      "outputs": [
        {
          "output_type": "stream",
          "text": [
            "Epoch 1/20\n",
            "218/218 [==============================] - 25s 56ms/step - loss: 1480.5960 - accuracy: 0.3974 - val_loss: 40.5846 - val_accuracy: 0.2902\n",
            "Epoch 2/20\n",
            "218/218 [==============================] - 11s 50ms/step - loss: 55.1132 - accuracy: 0.4833 - val_loss: 31.0500 - val_accuracy: 0.3456\n",
            "Epoch 3/20\n",
            "218/218 [==============================] - 11s 50ms/step - loss: 14.2953 - accuracy: 0.5322 - val_loss: 10.5706 - val_accuracy: 0.5465\n",
            "Epoch 4/20\n",
            "218/218 [==============================] - 11s 50ms/step - loss: 5.2178 - accuracy: 0.5773 - val_loss: 8.0583 - val_accuracy: 0.4619\n",
            "Epoch 5/20\n",
            "218/218 [==============================] - 11s 50ms/step - loss: 2.8608 - accuracy: 0.6340 - val_loss: 5.4417 - val_accuracy: 0.5268\n",
            "Epoch 6/20\n",
            "218/218 [==============================] - 11s 50ms/step - loss: 1.2226 - accuracy: 0.7287 - val_loss: 5.5410 - val_accuracy: 0.4660\n",
            "Epoch 7/20\n",
            "218/218 [==============================] - 11s 50ms/step - loss: 0.7255 - accuracy: 0.7762 - val_loss: 6.2627 - val_accuracy: 0.4303\n",
            "Epoch 8/20\n",
            "218/218 [==============================] - 11s 50ms/step - loss: 0.5996 - accuracy: 0.8053 - val_loss: 5.3532 - val_accuracy: 0.5340\n",
            "Epoch 9/20\n",
            "218/218 [==============================] - 11s 50ms/step - loss: 0.4138 - accuracy: 0.8587 - val_loss: 5.6936 - val_accuracy: 0.5369\n",
            "Epoch 10/20\n",
            "218/218 [==============================] - 11s 50ms/step - loss: 0.3365 - accuracy: 0.9029 - val_loss: 5.6175 - val_accuracy: 0.5310\n",
            "Epoch 11/20\n",
            "218/218 [==============================] - 11s 50ms/step - loss: 0.2796 - accuracy: 0.9145 - val_loss: 5.4418 - val_accuracy: 0.5477\n",
            "Epoch 12/20\n",
            "218/218 [==============================] - 11s 50ms/step - loss: 0.3370 - accuracy: 0.9030 - val_loss: 8.4066 - val_accuracy: 0.4821\n",
            "Epoch 13/20\n",
            "218/218 [==============================] - 11s 50ms/step - loss: 0.9962 - accuracy: 0.8060 - val_loss: 5.0924 - val_accuracy: 0.5095\n",
            "Epoch 14/20\n",
            "218/218 [==============================] - 11s 50ms/step - loss: 0.6352 - accuracy: 0.8355 - val_loss: 4.0808 - val_accuracy: 0.5322\n",
            "Epoch 15/20\n",
            "218/218 [==============================] - 11s 50ms/step - loss: 0.6397 - accuracy: 0.8506 - val_loss: 4.9145 - val_accuracy: 0.5036\n",
            "Epoch 16/20\n",
            "218/218 [==============================] - 11s 50ms/step - loss: 0.5759 - accuracy: 0.8491 - val_loss: 4.1935 - val_accuracy: 0.5447\n",
            "Epoch 17/20\n",
            "218/218 [==============================] - 11s 50ms/step - loss: 0.3522 - accuracy: 0.9093 - val_loss: 3.4812 - val_accuracy: 0.5042\n",
            "Epoch 18/20\n",
            "218/218 [==============================] - 11s 50ms/step - loss: 0.5689 - accuracy: 0.8097 - val_loss: 4.4071 - val_accuracy: 0.5578\n",
            "Epoch 19/20\n",
            "218/218 [==============================] - 11s 50ms/step - loss: 0.4610 - accuracy: 0.8939 - val_loss: 3.0264 - val_accuracy: 0.5560\n",
            "Epoch 20/20\n",
            "218/218 [==============================] - 11s 50ms/step - loss: 0.5658 - accuracy: 0.8270 - val_loss: 1.8028 - val_accuracy: 0.5232\n"
          ],
          "name": "stdout"
        }
      ]
    },
    {
      "cell_type": "code",
      "metadata": {
        "id": "VqRAVe-h2n-J"
      },
      "source": [
        "hist = hist.history"
      ],
      "execution_count": null,
      "outputs": []
    },
    {
      "cell_type": "code",
      "metadata": {
        "colab": {
          "base_uri": "https://localhost:8080/",
          "height": 295
        },
        "id": "-MvKlyD53SUM",
        "outputId": "17f30730-0963-4e59-e58c-9d44af292d1b"
      },
      "source": [
        "# summarize history for accuracy\n",
        "plt.plot(hist['accuracy'])\n",
        "plt.plot(hist['val_accuracy'])\n",
        "plt.title('Accuracy Of VGG-16')\n",
        "plt.ylabel('accuracy')\n",
        "plt.xlabel('epoch')\n",
        "plt.legend(['train', 'test'], loc='upper left')\n",
        "plt.show()"
      ],
      "execution_count": null,
      "outputs": [
        {
          "output_type": "display_data",
          "data": {
            "image/png": "[encoded data removed]",
            "text/plain": [
              "<Figure size 432x288 with 1 Axes>"
            ]
          },
          "metadata": {
            "tags": [],
            "needs_background": "light"
          }
        }
      ]
    },
    {
      "cell_type": "code",
      "metadata": {
        "colab": {
          "base_uri": "https://localhost:8080/",
          "height": 295
        },
        "id": "r5w0skth5CVj",
        "outputId": "e0a6ca99-5a11-4a1c-d273-7495aee15083"
      },
      "source": [
        "# summarize history for loss\n",
        "plt.plot(hist['loss'])\n",
        "plt.plot(hist['val_loss'])\n",
        "plt.title('Loss Of VGG-16')\n",
        "plt.ylabel('loss')\n",
        "plt.xlabel('epoch')\n",
        "plt.legend(['train', 'test'], loc='upper left')\n",
        "plt.show()"
      ],
      "execution_count": null,
      "outputs": [
        {
          "output_type": "display_data",
          "data": {
            "image/png": "[encoded data removed]",
            "text/plain": [
              "<Figure size 432x288 with 1 Axes>"
            ]
          },
          "metadata": {
            "tags": [],
            "needs_background": "light"
          }
        }
      ]
    },
    {
      "cell_type": "markdown",
      "metadata": {
        "id": "F_QN109JgHQ7"
      },
      "source": [
        "#**VGG-19**"
      ]
    },
    {
      "cell_type": "code",
      "metadata": {
        "id": "JyH9J37khThd"
      },
      "source": [
        "mtf = tf.keras.callbacks"
      ],
      "execution_count": null,
      "outputs": []
    },
    {
      "cell_type": "code",
      "metadata": {
        "id": "A8Vj5PfN1kEs"
      },
      "source": [
        "GPU_DEVICE=\"/device:GPU:0\""
      ],
      "execution_count": null,
      "outputs": []
    },
    {
      "cell_type": "code",
      "metadata": {
        "id": "2Z2Qz-nu5JXY",
        "colab": {
          "base_uri": "https://localhost:8080/"
        },
        "outputId": "7ad36685-d86e-4fd7-cecf-82575db705fb"
      },
      "source": [
        "ptm_19 = PTM_19(weights='imagenet', \n",
        "            include_top=False, pooling='avg')\n",
        "ptm_19.trainable = False"
      ],
      "execution_count": null,
      "outputs": [
        {
          "output_type": "stream",
          "text": [
            "Downloading data from https://storage.googleapis.com/tensorflow/keras-applications/vgg19/vgg19_weights_tf_dim_ordering_tf_kernels_notop.h5\n",
            "80142336/80134624 [==============================] - 0s 0us/step\n"
          ],
          "name": "stdout"
        }
      ]
    },
    {
      "cell_type": "code",
      "metadata": {
        "colab": {
          "base_uri": "https://localhost:8080/"
        },
        "id": "gLhr_BueZdSM",
        "outputId": "3e725e04-bac1-4368-abf7-12ea3270ea7a"
      },
      "source": [
        "ptm_19.summary()"
      ],
      "execution_count": null,
      "outputs": [
        {
          "output_type": "stream",
          "text": [
            "Model: \"vgg19\"\n",
            "_________________________________________________________________\n",
            "Layer (type)                 Output Shape              Param #   \n",
            "=================================================================\n",
            "input_1 (InputLayer)         [(None, None, None, 3)]   0         \n",
            "_________________________________________________________________\n",
            "block1_conv1 (Conv2D)        (None, None, None, 64)    1792      \n",
            "_________________________________________________________________\n",
            "block1_conv2 (Conv2D)        (None, None, None, 64)    36928     \n",
            "_________________________________________________________________\n",
            "block1_pool (MaxPooling2D)   (None, None, None, 64)    0         \n",
            "_________________________________________________________________\n",
            "block2_conv1 (Conv2D)        (None, None, None, 128)   73856     \n",
            "_________________________________________________________________\n",
            "block2_conv2 (Conv2D)        (None, None, None, 128)   147584    \n",
            "_________________________________________________________________\n",
            "block2_pool (MaxPooling2D)   (None, None, None, 128)   0         \n",
            "_________________________________________________________________\n",
            "block3_conv1 (Conv2D)        (None, None, None, 256)   295168    \n",
            "_________________________________________________________________\n",
            "block3_conv2 (Conv2D)        (None, None, None, 256)   590080    \n",
            "_________________________________________________________________\n",
            "block3_conv3 (Conv2D)        (None, None, None, 256)   590080    \n",
            "_________________________________________________________________\n",
            "block3_conv4 (Conv2D)        (None, None, None, 256)   590080    \n",
            "_________________________________________________________________\n",
            "block3_pool (MaxPooling2D)   (None, None, None, 256)   0         \n",
            "_________________________________________________________________\n",
            "block4_conv1 (Conv2D)        (None, None, None, 512)   1180160   \n",
            "_________________________________________________________________\n",
            "block4_conv2 (Conv2D)        (None, None, None, 512)   2359808   \n",
            "_________________________________________________________________\n",
            "block4_conv3 (Conv2D)        (None, None, None, 512)   2359808   \n",
            "_________________________________________________________________\n",
            "block4_conv4 (Conv2D)        (None, None, None, 512)   2359808   \n",
            "_________________________________________________________________\n",
            "block4_pool (MaxPooling2D)   (None, None, None, 512)   0         \n",
            "_________________________________________________________________\n",
            "block5_conv1 (Conv2D)        (None, None, None, 512)   2359808   \n",
            "_________________________________________________________________\n",
            "block5_conv2 (Conv2D)        (None, None, None, 512)   2359808   \n",
            "_________________________________________________________________\n",
            "block5_conv3 (Conv2D)        (None, None, None, 512)   2359808   \n",
            "_________________________________________________________________\n",
            "block5_conv4 (Conv2D)        (None, None, None, 512)   2359808   \n",
            "_________________________________________________________________\n",
            "block5_pool (MaxPooling2D)   (None, None, None, 512)   0         \n",
            "_________________________________________________________________\n",
            "global_average_pooling2d (Gl (None, 512)               0         \n",
            "=================================================================\n",
            "Total params: 20,024,384\n",
            "Trainable params: 0\n",
            "Non-trainable params: 20,024,384\n",
            "_________________________________________________________________\n"
          ],
          "name": "stdout"
        }
      ]
    },
    {
      "cell_type": "code",
      "metadata": {
        "colab": {
          "base_uri": "https://localhost:8080/",
          "height": 100,
          "referenced_widgets": [
            "f6079c2626674e8eb5b3b8b6011e6312",
            "3c2541515378496d91d4633c8942796f",
            "53e924d9c6684831bd7dee92af733de0",
            "5f7b457be4854594b09aaade2aa3e798",
            "f1e5574b93c04b558350c19ebe3b1c54",
            "006a925cc7d448b2b920fefda850bd79",
            "9a5a2992a5294349a646376ac5b8931a",
            "24ceb53d112b44b696bc79e56ebb2a96"
          ]
        },
        "id": "qfslI-UBZhFm",
        "outputId": "d8442f34-c5c1-4d67-e1eb-06ea9c5f1c91"
      },
      "source": [
        "training_features_19 = []\n",
        "print(\"Extracting Training Features ...\")\n",
        "for train_image_19 in tqdm(X_train_images):\n",
        "  with tf.device(GPU_DEVICE):\n",
        "    img_19 = np.expand_dims(train_image_19, axis=0)\n",
        "    training_feature_19 = ptm_19.predict(input19(img_19))[0]\n",
        "    training_features_19.append(training_feature_19)\n",
        "training_features_19 = np.array(training_features_19)\n",
        "print(\"Done Extracting Training Features.\")"
      ],
      "execution_count": null,
      "outputs": [
        {
          "output_type": "stream",
          "text": [
            "Extracting Training Features ...\n"
          ],
          "name": "stdout"
        },
        {
          "output_type": "display_data",
          "data": {
            "application/vnd.jupyter.widget-view+json": {
              "model_id": "f6079c2626674e8eb5b3b8b6011e6312",
              "version_minor": 0,
              "version_major": 2
            },
            "text/plain": [
              "HBox(children=(FloatProgress(value=0.0, max=3914.0), HTML(value='')))"
            ]
          },
          "metadata": {
            "tags": []
          }
        },
        {
          "output_type": "stream",
          "text": [
            "\n",
            "Done Extracting Training Features.\n"
          ],
          "name": "stdout"
        }
      ]
    },
    {
      "cell_type": "code",
      "metadata": {
        "colab": {
          "base_uri": "https://localhost:8080/"
        },
        "id": "tPhMYS7Fb8q9",
        "outputId": "f79d8d51-08d1-445a-f9a0-2f77e7b66dda"
      },
      "source": [
        "training_features_19.shape"
      ],
      "execution_count": null,
      "outputs": [
        {
          "output_type": "execute_result",
          "data": {
            "text/plain": [
              "(3914, 512)"
            ]
          },
          "metadata": {
            "tags": []
          },
          "execution_count": 15
        }
      ]
    },
    {
      "cell_type": "code",
      "metadata": {
        "colab": {
          "base_uri": "https://localhost:8080/",
          "height": 100,
          "referenced_widgets": [
            "46a511aa30044f0883195034b76ca173",
            "c90a6aea98ce4e67946a625506506629",
            "98145d112267496bba5e9dc5ec064399",
            "9a262a73e3344a329b935cd2c29a0e3b",
            "e196c1ee0cbf45348245224648e8ef0d",
            "195744b9a79b494c8094951f2252c844",
            "248fbafe6d8a4abcafca12fd7f37a233",
            "ac4bec5e3f0b4731808398cec2e0b7d0"
          ]
        },
        "id": "JVoZqtG2aBKC",
        "outputId": "39e748dc-f356-43ff-ba71-daa593387ce0"
      },
      "source": [
        "testing_features_19 = []\n",
        "print(\"Extracting Testing Features ...\")\n",
        "for test_image_19 in tqdm(X_test_images):\n",
        "  with tf.device(GPU_DEVICE):\n",
        "    tst_img_19 = np.expand_dims(test_image_19, axis=0)\n",
        "    testing_feature_19 = ptm_19.predict(input19(tst_img_19))[0]\n",
        "    testing_features_19.append(testing_feature_19)\n",
        "testing_features_19 = np.array(testing_features_19)\n",
        "print(\"Done Extracting Testing Features.\")"
      ],
      "execution_count": null,
      "outputs": [
        {
          "output_type": "stream",
          "text": [
            "Extracting Testing Features ...\n"
          ],
          "name": "stdout"
        },
        {
          "output_type": "display_data",
          "data": {
            "application/vnd.jupyter.widget-view+json": {
              "model_id": "46a511aa30044f0883195034b76ca173",
              "version_minor": 0,
              "version_major": 2
            },
            "text/plain": [
              "HBox(children=(FloatProgress(value=0.0, max=1678.0), HTML(value='')))"
            ]
          },
          "metadata": {
            "tags": []
          }
        },
        {
          "output_type": "stream",
          "text": [
            "\n",
            "Done Extracting Testing Features.\n"
          ],
          "name": "stdout"
        }
      ]
    },
    {
      "cell_type": "code",
      "metadata": {
        "colab": {
          "base_uri": "https://localhost:8080/"
        },
        "id": "3xEA6hAibhBm",
        "outputId": "ea3f9cdc-bef1-45cf-cfe0-e8bb05d5ff5e"
      },
      "source": [
        "testing_features_19.shape"
      ],
      "execution_count": null,
      "outputs": [
        {
          "output_type": "execute_result",
          "data": {
            "text/plain": [
              "(1678, 512)"
            ]
          },
          "metadata": {
            "tags": []
          },
          "execution_count": 17
        }
      ]
    },
    {
      "cell_type": "code",
      "metadata": {
        "id": "WsmrXVKqb7bH"
      },
      "source": [
        "model_19_clf = Sequential([\n",
        "    Dense(1024, input_shape=(512,)),\n",
        "    Activation('relu'),\n",
        "    BatchNormalization(),\n",
        "    Dropout(0.5),\n",
        "    Dense(512),\n",
        "    Activation('relu'),\n",
        "    BatchNormalization(),\n",
        "    Dropout(0.5),\n",
        "    Dense(256),\n",
        "    Activation('relu'),\n",
        "    BatchNormalization(),\n",
        "    Dropout(0.5),\n",
        "    Dense(256),\n",
        "    Activation('relu'),\n",
        "    BatchNormalization(),\n",
        "    Dropout(0.5),\n",
        "    Dense(256),\n",
        "    Activation('relu'),\n",
        "    BatchNormalization(),\n",
        "    Dropout(0.3),\n",
        "    Dense(4),\n",
        "    Activation('softmax'),\n",
        "])"
      ],
      "execution_count": null,
      "outputs": []
    },
    {
      "cell_type": "code",
      "metadata": {
        "id": "OicKp-MxaByy"
      },
      "source": [
        "adam_lr_clf = adm(learning_rate =1e-4,  beta_1=0.9, beta_2=0.999)\n",
        "model_19_clf.compile(optimizer = adam_lr_clf, loss = 'categorical_crossentropy', metrics = ['accuracy'])"
      ],
      "execution_count": null,
      "outputs": []
    },
    {
      "cell_type": "code",
      "metadata": {
        "id": "r8-WBO9rc1O_"
      },
      "source": [
        "model_19_bbox = Sequential([\n",
        "    Dense(1024, input_shape=(512,)),\n",
        "    Activation('relu'),\n",
        "    BatchNormalization(),\n",
        "    Dropout(0.5),\n",
        "    Dense(512),\n",
        "    Activation('relu'),\n",
        "    BatchNormalization(),\n",
        "    Dropout(0.5),\n",
        "    Dense(256),\n",
        "    Activation('relu'),\n",
        "    BatchNormalization(),\n",
        "    Dropout(0.5),\n",
        "    Dense(256),\n",
        "    Activation('relu'),\n",
        "    BatchNormalization(),\n",
        "    Dropout(0.5),\n",
        "    Dense(256),\n",
        "    Activation('relu'),\n",
        "    BatchNormalization(),\n",
        "    Dropout(0.3),\n",
        "    Dense(4),\n",
        "    Activation('sigmoid'),\n",
        "])\n"
      ],
      "execution_count": null,
      "outputs": []
    },
    {
      "cell_type": "code",
      "metadata": {
        "id": "pUNVeh-HZ94F"
      },
      "source": [
        "adam_lr_bbox = adm(learning_rate = 0.001, beta_1=0.9, beta_2=0.999, decay=0.001)\n",
        "model_19_bbox.compile(loss='mean_squared_error', optimizer=adam_lr_bbox, metrics=['mean_absolute_error'])"
      ],
      "execution_count": null,
      "outputs": []
    },
    {
      "cell_type": "code",
      "metadata": {
        "id": "vk3z1wvi1_yB"
      },
      "source": [
        "epochs = 63\n",
        "batch_size = 8"
      ],
      "execution_count": null,
      "outputs": []
    },
    {
      "cell_type": "code",
      "metadata": {
        "id": "R66ZouDKhcio"
      },
      "source": [
        "checkpoint_path = '/content/drive/MyDrive/KaggleDatasets/CovidDetection/VGG_19_Weights/Classification_model/weights-improvement-{epoch:02d}-{val_accuracy:.2f}.hdf5'\n",
        "model_checkpoint_callback = mtf.ModelCheckpoint(filepath=checkpoint_path,\n",
        "                                                save_weights_only=True,\n",
        "                                                monitor='val_accuracy',\n",
        "                                                mode='max',\n",
        "                                                save_best_only=True)"
      ],
      "execution_count": null,
      "outputs": []
    },
    {
      "cell_type": "code",
      "metadata": {
        "colab": {
          "base_uri": "https://localhost:8080/"
        },
        "id": "MRKeIznL0YkK",
        "outputId": "e91513ec-5a8d-4714-9f6e-06caced7b506"
      },
      "source": [
        "with tf.device(GPU_DEVICE):\n",
        "  history_clf = model_19_clf.fit(training_features_19, y_train_clf,\n",
        "                                 validation_data=(testing_features_19, y_test_clf),\n",
        "                                 batch_size=batch_size,\n",
        "                                 epochs=epochs, verbose=1, shuffle=True, )#, shuffle=True, callbacks=[model_checkpoint_callback])"
      ],
      "execution_count": null,
      "outputs": [
        {
          "output_type": "stream",
          "text": [
            "Epoch 1/63\n",
            "490/490 [==============================] - 20s 6ms/step - loss: 2.1565 - accuracy: 0.2607 - val_loss: 1.3602 - val_accuracy: 0.3194\n",
            "Epoch 2/63\n",
            "490/490 [==============================] - 2s 5ms/step - loss: 1.8165 - accuracy: 0.3130 - val_loss: 1.3368 - val_accuracy: 0.3516\n",
            "Epoch 3/63\n",
            "490/490 [==============================] - 2s 5ms/step - loss: 1.7109 - accuracy: 0.3265 - val_loss: 1.3668 - val_accuracy: 0.3647\n",
            "Epoch 4/63\n",
            "490/490 [==============================] - 2s 5ms/step - loss: 1.6275 - accuracy: 0.3598 - val_loss: 1.3133 - val_accuracy: 0.3903\n",
            "Epoch 5/63\n",
            "490/490 [==============================] - 2s 5ms/step - loss: 1.5511 - accuracy: 0.3797 - val_loss: 1.2567 - val_accuracy: 0.4934\n",
            "Epoch 6/63\n",
            "490/490 [==============================] - 2s 5ms/step - loss: 1.4787 - accuracy: 0.4055 - val_loss: 1.2785 - val_accuracy: 0.4154\n",
            "Epoch 7/63\n",
            "490/490 [==============================] - 3s 5ms/step - loss: 1.4220 - accuracy: 0.4156 - val_loss: 1.2846 - val_accuracy: 0.4011\n",
            "Epoch 8/63\n",
            "490/490 [==============================] - 2s 5ms/step - loss: 1.4331 - accuracy: 0.4215 - val_loss: 1.2848 - val_accuracy: 0.4041\n",
            "Epoch 9/63\n",
            "490/490 [==============================] - 3s 5ms/step - loss: 1.3912 - accuracy: 0.4278 - val_loss: 1.2604 - val_accuracy: 0.4619\n",
            "Epoch 10/63\n",
            "490/490 [==============================] - 3s 5ms/step - loss: 1.3630 - accuracy: 0.4392 - val_loss: 1.3169 - val_accuracy: 0.4428\n",
            "Epoch 11/63\n",
            "490/490 [==============================] - 3s 5ms/step - loss: 1.3639 - accuracy: 0.4431 - val_loss: 1.3266 - val_accuracy: 0.4583\n",
            "Epoch 12/63\n",
            "490/490 [==============================] - 3s 5ms/step - loss: 1.3437 - accuracy: 0.4557 - val_loss: 1.2903 - val_accuracy: 0.4893\n",
            "Epoch 13/63\n",
            "490/490 [==============================] - 3s 5ms/step - loss: 1.3037 - accuracy: 0.4680 - val_loss: 1.2723 - val_accuracy: 0.5364\n",
            "Epoch 14/63\n",
            "490/490 [==============================] - 3s 5ms/step - loss: 1.3253 - accuracy: 0.4427 - val_loss: 1.2758 - val_accuracy: 0.4625\n",
            "Epoch 15/63\n",
            "490/490 [==============================] - 3s 5ms/step - loss: 1.3049 - accuracy: 0.4714 - val_loss: 1.2793 - val_accuracy: 0.4607\n",
            "Epoch 16/63\n",
            "490/490 [==============================] - 3s 5ms/step - loss: 1.2608 - accuracy: 0.4730 - val_loss: 1.2657 - val_accuracy: 0.4625\n",
            "Epoch 17/63\n",
            "490/490 [==============================] - 3s 5ms/step - loss: 1.2939 - accuracy: 0.4630 - val_loss: 1.2517 - val_accuracy: 0.4785\n",
            "Epoch 18/63\n",
            "490/490 [==============================] - 3s 5ms/step - loss: 1.2561 - accuracy: 0.4715 - val_loss: 1.2435 - val_accuracy: 0.5006\n",
            "Epoch 19/63\n",
            "490/490 [==============================] - 3s 5ms/step - loss: 1.2433 - accuracy: 0.4844 - val_loss: 1.2120 - val_accuracy: 0.5542\n",
            "Epoch 20/63\n",
            "490/490 [==============================] - 2s 5ms/step - loss: 1.2523 - accuracy: 0.4814 - val_loss: 1.2065 - val_accuracy: 0.5739\n",
            "Epoch 21/63\n",
            "490/490 [==============================] - 2s 5ms/step - loss: 1.2185 - accuracy: 0.5157 - val_loss: 1.1933 - val_accuracy: 0.5775\n",
            "Epoch 22/63\n",
            "490/490 [==============================] - 2s 5ms/step - loss: 1.1977 - accuracy: 0.5080 - val_loss: 1.1962 - val_accuracy: 0.5667\n",
            "Epoch 23/63\n",
            "490/490 [==============================] - 3s 5ms/step - loss: 1.2289 - accuracy: 0.4908 - val_loss: 1.2019 - val_accuracy: 0.5566\n",
            "Epoch 24/63\n",
            "490/490 [==============================] - 3s 5ms/step - loss: 1.2411 - accuracy: 0.4950 - val_loss: 1.2138 - val_accuracy: 0.5364\n",
            "Epoch 25/63\n",
            "490/490 [==============================] - 3s 5ms/step - loss: 1.1944 - accuracy: 0.5138 - val_loss: 1.2202 - val_accuracy: 0.5465\n",
            "Epoch 26/63\n",
            "490/490 [==============================] - 3s 5ms/step - loss: 1.1967 - accuracy: 0.5209 - val_loss: 1.2372 - val_accuracy: 0.5411\n",
            "Epoch 27/63\n",
            "490/490 [==============================] - 3s 5ms/step - loss: 1.1838 - accuracy: 0.5202 - val_loss: 1.1924 - val_accuracy: 0.5608\n",
            "Epoch 28/63\n",
            "490/490 [==============================] - 3s 5ms/step - loss: 1.2084 - accuracy: 0.4976 - val_loss: 1.1761 - val_accuracy: 0.5781\n",
            "Epoch 29/63\n",
            "490/490 [==============================] - 3s 5ms/step - loss: 1.1737 - accuracy: 0.5327 - val_loss: 1.1784 - val_accuracy: 0.5870\n",
            "Epoch 30/63\n",
            "490/490 [==============================] - 3s 5ms/step - loss: 1.1667 - accuracy: 0.5413 - val_loss: 1.1646 - val_accuracy: 0.5858\n",
            "Epoch 31/63\n",
            "490/490 [==============================] - 3s 5ms/step - loss: 1.1793 - accuracy: 0.5303 - val_loss: 1.1655 - val_accuracy: 0.5763\n",
            "Epoch 32/63\n",
            "490/490 [==============================] - 3s 5ms/step - loss: 1.1530 - accuracy: 0.5462 - val_loss: 1.1801 - val_accuracy: 0.5918\n",
            "Epoch 33/63\n",
            "490/490 [==============================] - 2s 5ms/step - loss: 1.1572 - accuracy: 0.5540 - val_loss: 1.1687 - val_accuracy: 0.5882\n",
            "Epoch 34/63\n",
            "490/490 [==============================] - 2s 5ms/step - loss: 1.1222 - accuracy: 0.5556 - val_loss: 1.1564 - val_accuracy: 0.5989\n",
            "Epoch 35/63\n",
            "490/490 [==============================] - 2s 5ms/step - loss: 1.1263 - accuracy: 0.5636 - val_loss: 1.1721 - val_accuracy: 0.5906\n",
            "Epoch 36/63\n",
            "490/490 [==============================] - 2s 5ms/step - loss: 1.1478 - accuracy: 0.5604 - val_loss: 1.1758 - val_accuracy: 0.5971\n",
            "Epoch 37/63\n",
            "490/490 [==============================] - 2s 5ms/step - loss: 1.1489 - accuracy: 0.5464 - val_loss: 1.1933 - val_accuracy: 0.5894\n",
            "Epoch 38/63\n",
            "490/490 [==============================] - 2s 5ms/step - loss: 1.1573 - accuracy: 0.5305 - val_loss: 1.2353 - val_accuracy: 0.5852\n",
            "Epoch 39/63\n",
            "490/490 [==============================] - 2s 5ms/step - loss: 1.1232 - accuracy: 0.5565 - val_loss: 1.2322 - val_accuracy: 0.5906\n",
            "Epoch 40/63\n",
            "490/490 [==============================] - 2s 5ms/step - loss: 1.1466 - accuracy: 0.5542 - val_loss: 1.2258 - val_accuracy: 0.5906\n",
            "Epoch 41/63\n",
            "490/490 [==============================] - 2s 5ms/step - loss: 1.1419 - accuracy: 0.5562 - val_loss: 1.2376 - val_accuracy: 0.6001\n",
            "Epoch 42/63\n",
            "490/490 [==============================] - 2s 5ms/step - loss: 1.1193 - accuracy: 0.5567 - val_loss: 1.1925 - val_accuracy: 0.5965\n",
            "Epoch 43/63\n",
            "490/490 [==============================] - 2s 5ms/step - loss: 1.1145 - accuracy: 0.5560 - val_loss: 1.2380 - val_accuracy: 0.5942\n",
            "Epoch 44/63\n",
            "490/490 [==============================] - 2s 5ms/step - loss: 1.1196 - accuracy: 0.5666 - val_loss: 1.2234 - val_accuracy: 0.5971\n",
            "Epoch 45/63\n",
            "490/490 [==============================] - 2s 5ms/step - loss: 1.1329 - accuracy: 0.5521 - val_loss: 1.2362 - val_accuracy: 0.5977\n",
            "Epoch 46/63\n",
            "490/490 [==============================] - 2s 5ms/step - loss: 1.1051 - accuracy: 0.5798 - val_loss: 1.2366 - val_accuracy: 0.5977\n",
            "Epoch 47/63\n",
            "490/490 [==============================] - 2s 5ms/step - loss: 1.1303 - accuracy: 0.5616 - val_loss: 1.2308 - val_accuracy: 0.5971\n",
            "Epoch 48/63\n",
            "490/490 [==============================] - 2s 5ms/step - loss: 1.1138 - accuracy: 0.5598 - val_loss: 1.1984 - val_accuracy: 0.5918\n",
            "Epoch 49/63\n",
            "490/490 [==============================] - 3s 5ms/step - loss: 1.0966 - accuracy: 0.5750 - val_loss: 1.2221 - val_accuracy: 0.5948\n",
            "Epoch 50/63\n",
            "490/490 [==============================] - 3s 5ms/step - loss: 1.0901 - accuracy: 0.5851 - val_loss: 1.2463 - val_accuracy: 0.5995\n",
            "Epoch 51/63\n",
            "490/490 [==============================] - 3s 5ms/step - loss: 1.0997 - accuracy: 0.5672 - val_loss: 1.2261 - val_accuracy: 0.6049\n",
            "Epoch 52/63\n",
            "490/490 [==============================] - 3s 5ms/step - loss: 1.1047 - accuracy: 0.5654 - val_loss: 1.2304 - val_accuracy: 0.5948\n",
            "Epoch 53/63\n",
            "490/490 [==============================] - 3s 5ms/step - loss: 1.0961 - accuracy: 0.5799 - val_loss: 1.2499 - val_accuracy: 0.6091\n",
            "Epoch 54/63\n",
            "490/490 [==============================] - 3s 5ms/step - loss: 1.1085 - accuracy: 0.5623 - val_loss: 1.2664 - val_accuracy: 0.6043\n",
            "Epoch 55/63\n",
            "490/490 [==============================] - 3s 5ms/step - loss: 1.1041 - accuracy: 0.5649 - val_loss: 1.2125 - val_accuracy: 0.6067\n",
            "Epoch 56/63\n",
            "490/490 [==============================] - 3s 5ms/step - loss: 1.0962 - accuracy: 0.5732 - val_loss: 1.2223 - val_accuracy: 0.6103\n",
            "Epoch 57/63\n",
            "490/490 [==============================] - 3s 5ms/step - loss: 1.0874 - accuracy: 0.5659 - val_loss: 1.2532 - val_accuracy: 0.6091\n",
            "Epoch 58/63\n",
            "490/490 [==============================] - 3s 5ms/step - loss: 1.0985 - accuracy: 0.5757 - val_loss: 1.2024 - val_accuracy: 0.6037\n",
            "Epoch 59/63\n",
            "490/490 [==============================] - 2s 5ms/step - loss: 1.0954 - accuracy: 0.5818 - val_loss: 1.1692 - val_accuracy: 0.6085\n",
            "Epoch 60/63\n",
            "490/490 [==============================] - 2s 5ms/step - loss: 1.0816 - accuracy: 0.5839 - val_loss: 1.1909 - val_accuracy: 0.6013\n",
            "Epoch 61/63\n",
            "490/490 [==============================] - 2s 5ms/step - loss: 1.0813 - accuracy: 0.5857 - val_loss: 1.1915 - val_accuracy: 0.6043\n",
            "Epoch 62/63\n",
            "490/490 [==============================] - 2s 5ms/step - loss: 1.0742 - accuracy: 0.5835 - val_loss: 1.2199 - val_accuracy: 0.6067\n",
            "Epoch 63/63\n",
            "490/490 [==============================] - 2s 5ms/step - loss: 1.0988 - accuracy: 0.5641 - val_loss: 1.2114 - val_accuracy: 0.5971\n"
          ],
          "name": "stdout"
        }
      ]
    },
    {
      "cell_type": "code",
      "metadata": {
        "id": "gs04JkvT2o2u"
      },
      "source": [
        "history_clf_19 = history_clf.history"
      ],
      "execution_count": null,
      "outputs": []
    },
    {
      "cell_type": "code",
      "metadata": {
        "colab": {
          "base_uri": "https://localhost:8080/",
          "height": 312
        },
        "id": "By44JDQV3a51",
        "outputId": "753cccf7-f591-4ce9-c9f7-a2cafa22c2fe"
      },
      "source": [
        "print(\"VGG_19 CLASSIFICATION ACCURACY GRAPH\")\n",
        "plt.plot(history_clf_19['accuracy'])\n",
        "plt.plot(history_clf_19['val_accuracy'])\n",
        "plt.title('Accuracy Of VGG-19')\n",
        "plt.ylabel('accuracy')\n",
        "plt.xlabel('epoch')\n",
        "plt.legend(['train', 'test'], loc='upper left')\n",
        "plt.show()"
      ],
      "execution_count": null,
      "outputs": [
        {
          "output_type": "stream",
          "text": [
            "VGG_19 CLASSIFICATION ACCURACY GRAPH\n"
          ],
          "name": "stdout"
        },
        {
          "output_type": "display_data",
          "data": {
            "image/png": "[encoded data removed]",
            "text/plain": [
              "<Figure size 432x288 with 1 Axes>"
            ]
          },
          "metadata": {
            "tags": [],
            "needs_background": "light"
          }
        }
      ]
    },
    {
      "cell_type": "code",
      "metadata": {
        "colab": {
          "base_uri": "https://localhost:8080/",
          "height": 312
        },
        "id": "1oF0sZze3xt2",
        "outputId": "d250af27-8a65-4970-f843-5c441c4c3706"
      },
      "source": [
        "print(\"VGG_19 CLASSIFICATION LOSS GRAPH\")\n",
        "plt.plot(history_clf_19['loss'])\n",
        "plt.plot(history_clf_19['val_loss'])\n",
        "plt.title('Loss Of VGG-19')\n",
        "plt.ylabel('loss')\n",
        "plt.xlabel('epoch')\n",
        "plt.legend(['train', 'test'], loc='upper left')\n",
        "plt.show()"
      ],
      "execution_count": null,
      "outputs": [
        {
          "output_type": "stream",
          "text": [
            "VGG_19 CLASSIFICATION LOSS GRAPH\n"
          ],
          "name": "stdout"
        },
        {
          "output_type": "display_data",
          "data": {
            "image/png": "[encoded data removed]",
            "text/plain": [
              "<Figure size 432x288 with 1 Axes>"
            ]
          },
          "metadata": {
            "tags": [],
            "needs_background": "light"
          }
        }
      ]
    },
    {
      "cell_type": "code",
      "metadata": {
        "colab": {
          "base_uri": "https://localhost:8080/"
        },
        "id": "MUos53VH38zP",
        "outputId": "70af24b2-c6a9-41ca-ec1a-3d9ec90f98af"
      },
      "source": [
        "evaluation_19 = model_19_clf.evaluate(testing_features_19, y_test_clf)"
      ],
      "execution_count": null,
      "outputs": [
        {
          "output_type": "stream",
          "text": [
            "53/53 [==============================] - 0s 2ms/step - loss: 1.2114 - accuracy: 0.5971\n"
          ],
          "name": "stdout"
        }
      ]
    },
    {
      "cell_type": "code",
      "metadata": {
        "colab": {
          "base_uri": "https://localhost:8080/"
        },
        "id": "pN7ymNL94O47",
        "outputId": "967d0747-a0c4-45d1-84d4-dd83e95f5977"
      },
      "source": [
        "model_19_clf.summary()"
      ],
      "execution_count": null,
      "outputs": [
        {
          "output_type": "stream",
          "text": [
            "Model: \"sequential_2\"\n",
            "_________________________________________________________________\n",
            "Layer (type)                 Output Shape              Param #   \n",
            "=================================================================\n",
            "module_wrapper_44 (ModuleWra (None, 1024)              525312    \n",
            "_________________________________________________________________\n",
            "module_wrapper_45 (ModuleWra (None, 1024)              0         \n",
            "_________________________________________________________________\n",
            "module_wrapper_46 (ModuleWra (None, 1024)              4096      \n",
            "_________________________________________________________________\n",
            "module_wrapper_47 (ModuleWra (None, 1024)              0         \n",
            "_________________________________________________________________\n",
            "module_wrapper_48 (ModuleWra (None, 512)               524800    \n",
            "_________________________________________________________________\n",
            "module_wrapper_49 (ModuleWra (None, 512)               0         \n",
            "_________________________________________________________________\n",
            "module_wrapper_50 (ModuleWra (None, 512)               2048      \n",
            "_________________________________________________________________\n",
            "module_wrapper_51 (ModuleWra (None, 512)               0         \n",
            "_________________________________________________________________\n",
            "module_wrapper_52 (ModuleWra (None, 256)               131328    \n",
            "_________________________________________________________________\n",
            "module_wrapper_53 (ModuleWra (None, 256)               0         \n",
            "_________________________________________________________________\n",
            "module_wrapper_54 (ModuleWra (None, 256)               1024      \n",
            "_________________________________________________________________\n",
            "module_wrapper_55 (ModuleWra (None, 256)               0         \n",
            "_________________________________________________________________\n",
            "module_wrapper_56 (ModuleWra (None, 256)               65792     \n",
            "_________________________________________________________________\n",
            "module_wrapper_57 (ModuleWra (None, 256)               0         \n",
            "_________________________________________________________________\n",
            "module_wrapper_58 (ModuleWra (None, 256)               1024      \n",
            "_________________________________________________________________\n",
            "module_wrapper_59 (ModuleWra (None, 256)               0         \n",
            "_________________________________________________________________\n",
            "module_wrapper_60 (ModuleWra (None, 256)               65792     \n",
            "_________________________________________________________________\n",
            "module_wrapper_61 (ModuleWra (None, 256)               0         \n",
            "_________________________________________________________________\n",
            "module_wrapper_62 (ModuleWra (None, 256)               1024      \n",
            "_________________________________________________________________\n",
            "module_wrapper_63 (ModuleWra (None, 256)               0         \n",
            "_________________________________________________________________\n",
            "module_wrapper_64 (ModuleWra (None, 4)                 1028      \n",
            "_________________________________________________________________\n",
            "module_wrapper_65 (ModuleWra (None, 4)                 0         \n",
            "=================================================================\n",
            "Total params: 1,323,268\n",
            "Trainable params: 1,318,660\n",
            "Non-trainable params: 4,608\n",
            "_________________________________________________________________\n"
          ],
          "name": "stdout"
        }
      ]
    },
    {
      "cell_type": "code",
      "metadata": {
        "colab": {
          "base_uri": "https://localhost:8080/"
        },
        "id": "Txt-q9mR4Tab",
        "outputId": "67505029-5b65-45c3-90df-bd4008cb185e"
      },
      "source": [
        "with tf.device(GPU_DEVICE):\n",
        "  history_bbox = model_19_bbox.fit(training_features_19, y_train_bbox, verbose=1, batch_size=batch_size, epochs=epochs, validation_data=(testing_features_19, y_test_bbox))"
      ],
      "execution_count": null,
      "outputs": [
        {
          "output_type": "stream",
          "text": [
            "Epoch 1/63\n",
            "490/490 [==============================] - 6s 6ms/step - loss: 0.1281 - mean_absolute_error: 0.2816 - val_loss: 0.0551 - val_mean_absolute_error: 0.1794\n",
            "Epoch 2/63\n",
            "490/490 [==============================] - 2s 5ms/step - loss: 0.0580 - mean_absolute_error: 0.1886 - val_loss: 0.0478 - val_mean_absolute_error: 0.1712\n",
            "Epoch 3/63\n",
            "490/490 [==============================] - 2s 5ms/step - loss: 0.0535 - mean_absolute_error: 0.1828 - val_loss: 0.0444 - val_mean_absolute_error: 0.1684\n",
            "Epoch 4/63\n",
            "490/490 [==============================] - 2s 5ms/step - loss: 0.0489 - mean_absolute_error: 0.1762 - val_loss: 0.0429 - val_mean_absolute_error: 0.1649\n",
            "Epoch 5/63\n",
            "490/490 [==============================] - 2s 5ms/step - loss: 0.0464 - mean_absolute_error: 0.1715 - val_loss: 0.0410 - val_mean_absolute_error: 0.1631\n",
            "Epoch 6/63\n",
            "490/490 [==============================] - 2s 5ms/step - loss: 0.0439 - mean_absolute_error: 0.1687 - val_loss: 0.0395 - val_mean_absolute_error: 0.1604\n",
            "Epoch 7/63\n",
            "490/490 [==============================] - 2s 5ms/step - loss: 0.0439 - mean_absolute_error: 0.1688 - val_loss: 0.0381 - val_mean_absolute_error: 0.1587\n",
            "Epoch 8/63\n",
            "490/490 [==============================] - 2s 5ms/step - loss: 0.0419 - mean_absolute_error: 0.1647 - val_loss: 0.0381 - val_mean_absolute_error: 0.1574\n",
            "Epoch 9/63\n",
            "490/490 [==============================] - 2s 5ms/step - loss: 0.0416 - mean_absolute_error: 0.1640 - val_loss: 0.0383 - val_mean_absolute_error: 0.1585\n",
            "Epoch 10/63\n",
            "490/490 [==============================] - 2s 5ms/step - loss: 0.0405 - mean_absolute_error: 0.1627 - val_loss: 0.0375 - val_mean_absolute_error: 0.1570\n",
            "Epoch 11/63\n",
            "490/490 [==============================] - 2s 5ms/step - loss: 0.0399 - mean_absolute_error: 0.1614 - val_loss: 0.0369 - val_mean_absolute_error: 0.1548\n",
            "Epoch 12/63\n",
            "490/490 [==============================] - 2s 5ms/step - loss: 0.0408 - mean_absolute_error: 0.1621 - val_loss: 0.0363 - val_mean_absolute_error: 0.1534\n",
            "Epoch 13/63\n",
            "490/490 [==============================] - 2s 5ms/step - loss: 0.0389 - mean_absolute_error: 0.1590 - val_loss: 0.0361 - val_mean_absolute_error: 0.1533\n",
            "Epoch 14/63\n",
            "490/490 [==============================] - 2s 5ms/step - loss: 0.0385 - mean_absolute_error: 0.1576 - val_loss: 0.0371 - val_mean_absolute_error: 0.1572\n",
            "Epoch 15/63\n",
            "490/490 [==============================] - 2s 5ms/step - loss: 0.0387 - mean_absolute_error: 0.1582 - val_loss: 0.0360 - val_mean_absolute_error: 0.1527\n",
            "Epoch 16/63\n",
            "490/490 [==============================] - 2s 5ms/step - loss: 0.0382 - mean_absolute_error: 0.1574 - val_loss: 0.0366 - val_mean_absolute_error: 0.1551\n",
            "Epoch 17/63\n",
            "490/490 [==============================] - 2s 5ms/step - loss: 0.0378 - mean_absolute_error: 0.1555 - val_loss: 0.0359 - val_mean_absolute_error: 0.1525\n",
            "Epoch 18/63\n",
            "490/490 [==============================] - 2s 5ms/step - loss: 0.0385 - mean_absolute_error: 0.1577 - val_loss: 0.0357 - val_mean_absolute_error: 0.1524\n",
            "Epoch 19/63\n",
            "490/490 [==============================] - 2s 5ms/step - loss: 0.0371 - mean_absolute_error: 0.1541 - val_loss: 0.0359 - val_mean_absolute_error: 0.1537\n",
            "Epoch 20/63\n",
            "490/490 [==============================] - 2s 5ms/step - loss: 0.0372 - mean_absolute_error: 0.1553 - val_loss: 0.0356 - val_mean_absolute_error: 0.1538\n",
            "Epoch 21/63\n",
            "490/490 [==============================] - 2s 5ms/step - loss: 0.0365 - mean_absolute_error: 0.1527 - val_loss: 0.0359 - val_mean_absolute_error: 0.1535\n",
            "Epoch 22/63\n",
            "490/490 [==============================] - 2s 5ms/step - loss: 0.0375 - mean_absolute_error: 0.1550 - val_loss: 0.0359 - val_mean_absolute_error: 0.1528\n",
            "Epoch 23/63\n",
            "490/490 [==============================] - 2s 5ms/step - loss: 0.0375 - mean_absolute_error: 0.1552 - val_loss: 0.0356 - val_mean_absolute_error: 0.1533\n",
            "Epoch 24/63\n",
            "490/490 [==============================] - 2s 5ms/step - loss: 0.0373 - mean_absolute_error: 0.1547 - val_loss: 0.0359 - val_mean_absolute_error: 0.1528\n",
            "Epoch 25/63\n",
            "490/490 [==============================] - 2s 5ms/step - loss: 0.0372 - mean_absolute_error: 0.1548 - val_loss: 0.0355 - val_mean_absolute_error: 0.1522\n",
            "Epoch 26/63\n",
            "490/490 [==============================] - 2s 5ms/step - loss: 0.0360 - mean_absolute_error: 0.1515 - val_loss: 0.0353 - val_mean_absolute_error: 0.1516\n",
            "Epoch 27/63\n",
            "490/490 [==============================] - 2s 5ms/step - loss: 0.0359 - mean_absolute_error: 0.1515 - val_loss: 0.0358 - val_mean_absolute_error: 0.1535\n",
            "Epoch 28/63\n",
            "490/490 [==============================] - 2s 5ms/step - loss: 0.0358 - mean_absolute_error: 0.1515 - val_loss: 0.0356 - val_mean_absolute_error: 0.1528\n",
            "Epoch 29/63\n",
            "490/490 [==============================] - 2s 5ms/step - loss: 0.0368 - mean_absolute_error: 0.1542 - val_loss: 0.0361 - val_mean_absolute_error: 0.1527\n",
            "Epoch 30/63\n",
            "490/490 [==============================] - 2s 5ms/step - loss: 0.0370 - mean_absolute_error: 0.1540 - val_loss: 0.0358 - val_mean_absolute_error: 0.1526\n",
            "Epoch 31/63\n",
            "490/490 [==============================] - 2s 5ms/step - loss: 0.0363 - mean_absolute_error: 0.1520 - val_loss: 0.0359 - val_mean_absolute_error: 0.1526\n",
            "Epoch 32/63\n",
            "490/490 [==============================] - 2s 5ms/step - loss: 0.0358 - mean_absolute_error: 0.1508 - val_loss: 0.0355 - val_mean_absolute_error: 0.1519\n",
            "Epoch 33/63\n",
            "490/490 [==============================] - 2s 5ms/step - loss: 0.0362 - mean_absolute_error: 0.1517 - val_loss: 0.0356 - val_mean_absolute_error: 0.1523\n",
            "Epoch 34/63\n",
            "490/490 [==============================] - 2s 5ms/step - loss: 0.0361 - mean_absolute_error: 0.1519 - val_loss: 0.0355 - val_mean_absolute_error: 0.1510\n",
            "Epoch 35/63\n",
            "490/490 [==============================] - 2s 5ms/step - loss: 0.0359 - mean_absolute_error: 0.1507 - val_loss: 0.0357 - val_mean_absolute_error: 0.1525\n",
            "Epoch 36/63\n",
            "490/490 [==============================] - 2s 5ms/step - loss: 0.0351 - mean_absolute_error: 0.1495 - val_loss: 0.0357 - val_mean_absolute_error: 0.1519\n",
            "Epoch 37/63\n",
            "490/490 [==============================] - 2s 5ms/step - loss: 0.0360 - mean_absolute_error: 0.1513 - val_loss: 0.0359 - val_mean_absolute_error: 0.1525\n",
            "Epoch 38/63\n",
            "490/490 [==============================] - 2s 5ms/step - loss: 0.0365 - mean_absolute_error: 0.1521 - val_loss: 0.0356 - val_mean_absolute_error: 0.1520\n",
            "Epoch 39/63\n",
            "490/490 [==============================] - 2s 5ms/step - loss: 0.0350 - mean_absolute_error: 0.1498 - val_loss: 0.0358 - val_mean_absolute_error: 0.1520\n",
            "Epoch 40/63\n",
            "490/490 [==============================] - 2s 5ms/step - loss: 0.0350 - mean_absolute_error: 0.1489 - val_loss: 0.0358 - val_mean_absolute_error: 0.1529\n",
            "Epoch 41/63\n",
            "490/490 [==============================] - 2s 5ms/step - loss: 0.0357 - mean_absolute_error: 0.1505 - val_loss: 0.0360 - val_mean_absolute_error: 0.1531\n",
            "Epoch 42/63\n",
            "490/490 [==============================] - 2s 5ms/step - loss: 0.0352 - mean_absolute_error: 0.1499 - val_loss: 0.0365 - val_mean_absolute_error: 0.1542\n",
            "Epoch 43/63\n",
            "490/490 [==============================] - 2s 5ms/step - loss: 0.0354 - mean_absolute_error: 0.1498 - val_loss: 0.0364 - val_mean_absolute_error: 0.1534\n",
            "Epoch 44/63\n",
            "490/490 [==============================] - 2s 5ms/step - loss: 0.0356 - mean_absolute_error: 0.1504 - val_loss: 0.0358 - val_mean_absolute_error: 0.1523\n",
            "Epoch 45/63\n",
            "490/490 [==============================] - 2s 5ms/step - loss: 0.0345 - mean_absolute_error: 0.1486 - val_loss: 0.0362 - val_mean_absolute_error: 0.1534\n",
            "Epoch 46/63\n",
            "490/490 [==============================] - 2s 5ms/step - loss: 0.0355 - mean_absolute_error: 0.1507 - val_loss: 0.0361 - val_mean_absolute_error: 0.1526\n",
            "Epoch 47/63\n",
            "490/490 [==============================] - 2s 5ms/step - loss: 0.0356 - mean_absolute_error: 0.1505 - val_loss: 0.0359 - val_mean_absolute_error: 0.1521\n",
            "Epoch 48/63\n",
            "490/490 [==============================] - 2s 5ms/step - loss: 0.0356 - mean_absolute_error: 0.1504 - val_loss: 0.0359 - val_mean_absolute_error: 0.1520\n",
            "Epoch 49/63\n",
            "490/490 [==============================] - 2s 5ms/step - loss: 0.0355 - mean_absolute_error: 0.1492 - val_loss: 0.0358 - val_mean_absolute_error: 0.1522\n",
            "Epoch 50/63\n",
            "490/490 [==============================] - 2s 5ms/step - loss: 0.0344 - mean_absolute_error: 0.1474 - val_loss: 0.0362 - val_mean_absolute_error: 0.1521\n",
            "Epoch 51/63\n",
            "490/490 [==============================] - 2s 5ms/step - loss: 0.0345 - mean_absolute_error: 0.1473 - val_loss: 0.0360 - val_mean_absolute_error: 0.1519\n",
            "Epoch 52/63\n",
            "490/490 [==============================] - 2s 5ms/step - loss: 0.0356 - mean_absolute_error: 0.1503 - val_loss: 0.0356 - val_mean_absolute_error: 0.1510\n",
            "Epoch 53/63\n",
            "490/490 [==============================] - 3s 5ms/step - loss: 0.0351 - mean_absolute_error: 0.1491 - val_loss: 0.0355 - val_mean_absolute_error: 0.1513\n",
            "Epoch 54/63\n",
            "490/490 [==============================] - 3s 5ms/step - loss: 0.0346 - mean_absolute_error: 0.1480 - val_loss: 0.0357 - val_mean_absolute_error: 0.1517\n",
            "Epoch 55/63\n",
            "490/490 [==============================] - 3s 5ms/step - loss: 0.0345 - mean_absolute_error: 0.1473 - val_loss: 0.0356 - val_mean_absolute_error: 0.1506\n",
            "Epoch 56/63\n",
            "490/490 [==============================] - 3s 5ms/step - loss: 0.0339 - mean_absolute_error: 0.1460 - val_loss: 0.0359 - val_mean_absolute_error: 0.1513\n",
            "Epoch 57/63\n",
            "490/490 [==============================] - 2s 5ms/step - loss: 0.0346 - mean_absolute_error: 0.1479 - val_loss: 0.0358 - val_mean_absolute_error: 0.1521\n",
            "Epoch 58/63\n",
            "490/490 [==============================] - 2s 5ms/step - loss: 0.0345 - mean_absolute_error: 0.1476 - val_loss: 0.0362 - val_mean_absolute_error: 0.1526\n",
            "Epoch 59/63\n",
            "490/490 [==============================] - 2s 5ms/step - loss: 0.0346 - mean_absolute_error: 0.1491 - val_loss: 0.0360 - val_mean_absolute_error: 0.1521\n",
            "Epoch 60/63\n",
            "490/490 [==============================] - 2s 5ms/step - loss: 0.0339 - mean_absolute_error: 0.1478 - val_loss: 0.0360 - val_mean_absolute_error: 0.1524\n",
            "Epoch 61/63\n",
            "490/490 [==============================] - 3s 6ms/step - loss: 0.0344 - mean_absolute_error: 0.1478 - val_loss: 0.0359 - val_mean_absolute_error: 0.1523\n",
            "Epoch 62/63\n",
            "490/490 [==============================] - 2s 5ms/step - loss: 0.0353 - mean_absolute_error: 0.1492 - val_loss: 0.0364 - val_mean_absolute_error: 0.1528\n",
            "Epoch 63/63\n",
            "490/490 [==============================] - 2s 5ms/step - loss: 0.0343 - mean_absolute_error: 0.1469 - val_loss: 0.0367 - val_mean_absolute_error: 0.1535\n"
          ],
          "name": "stdout"
        }
      ]
    },
    {
      "cell_type": "code",
      "metadata": {
        "id": "ejUREVIU5njE"
      },
      "source": [
        "history_bbox_19 = history_bbox.history"
      ],
      "execution_count": 25,
      "outputs": []
    },
    {
      "cell_type": "code",
      "metadata": {
        "colab": {
          "base_uri": "https://localhost:8080/",
          "height": 312
        },
        "id": "BwoqROwa52BP",
        "outputId": "d8a2688e-e0e7-4d72-f1db-97f14724436c"
      },
      "source": [
        "print(\"VGG_19 BOUNDING BOX REGRESSION LOSS GRAPH\")\n",
        "plt.plot(history_bbox_19['loss'])\n",
        "plt.plot(history_bbox_19['val_loss'])\n",
        "plt.title('Loss Of VGG-19')\n",
        "plt.ylabel('loss')\n",
        "plt.xlabel('epoch')\n",
        "plt.legend(['train', 'test'], loc='upper left')\n",
        "plt.show()"
      ],
      "execution_count": 26,
      "outputs": [
        {
          "output_type": "stream",
          "text": [
            "VGG_19 BOUNDING BOX REGRESSION LOSS GRAPH\n"
          ],
          "name": "stdout"
        },
        {
          "output_type": "display_data",
          "data": {
            "image/png": "[encoded data removed]",
            "text/plain": [
              "<Figure size 432x288 with 1 Axes>"
            ]
          },
          "metadata": {
            "tags": [],
            "needs_background": "light"
          }
        }
      ]
    },
    {
      "cell_type": "code",
      "metadata": {
        "colab": {
          "base_uri": "https://localhost:8080/",
          "height": 312
        },
        "id": "n-CHX1P9pbZS",
        "outputId": "2ba6d471-e4ec-477e-a512-19f7d2ddb3a6"
      },
      "source": [
        "print(\"VGG_19 BOUNDING BOX REGRESSION MEAN ABSOLUTE ERROR GRAPH\")\n",
        "plt.plot(history_bbox_19['mean_absolute_error'])\n",
        "plt.plot(history_bbox_19['val_mean_absolute_error'])\n",
        "plt.title('MAE Of VGG-19')\n",
        "plt.ylabel('loss')\n",
        "plt.xlabel('epoch')\n",
        "plt.legend(['train', 'test'], loc='upper left')\n",
        "plt.show()"
      ],
      "execution_count": 27,
      "outputs": [
        {
          "output_type": "stream",
          "text": [
            "VGG_19 BOUNDING BOX REGRESSION MEAN ABSOLUTE ERROR GRAPH\n"
          ],
          "name": "stdout"
        },
        {
          "output_type": "display_data",
          "data": {
            "image/png": "[encoded data removed]",
            "text/plain": [
              "<Figure size 432x288 with 1 Axes>"
            ]
          },
          "metadata": {
            "tags": [],
            "needs_background": "light"
          }
        }
      ]
    },
    {
      "cell_type": "code",
      "metadata": {
        "colab": {
          "base_uri": "https://localhost:8080/"
        },
        "id": "m-25kQhz5GCP",
        "outputId": "6ba20569-f420-4937-bf6c-579d3d6f0f0f"
      },
      "source": [
        "model_19_bbox.summary()"
      ],
      "execution_count": null,
      "outputs": [
        {
          "output_type": "stream",
          "text": [
            "Model: \"sequential_3\"\n",
            "_________________________________________________________________\n",
            "Layer (type)                 Output Shape              Param #   \n",
            "=================================================================\n",
            "module_wrapper_66 (ModuleWra (None, 1024)              525312    \n",
            "_________________________________________________________________\n",
            "module_wrapper_67 (ModuleWra (None, 1024)              0         \n",
            "_________________________________________________________________\n",
            "module_wrapper_68 (ModuleWra (None, 1024)              4096      \n",
            "_________________________________________________________________\n",
            "module_wrapper_69 (ModuleWra (None, 1024)              0         \n",
            "_________________________________________________________________\n",
            "module_wrapper_70 (ModuleWra (None, 512)               524800    \n",
            "_________________________________________________________________\n",
            "module_wrapper_71 (ModuleWra (None, 512)               0         \n",
            "_________________________________________________________________\n",
            "module_wrapper_72 (ModuleWra (None, 512)               2048      \n",
            "_________________________________________________________________\n",
            "module_wrapper_73 (ModuleWra (None, 512)               0         \n",
            "_________________________________________________________________\n",
            "module_wrapper_74 (ModuleWra (None, 256)               131328    \n",
            "_________________________________________________________________\n",
            "module_wrapper_75 (ModuleWra (None, 256)               0         \n",
            "_________________________________________________________________\n",
            "module_wrapper_76 (ModuleWra (None, 256)               1024      \n",
            "_________________________________________________________________\n",
            "module_wrapper_77 (ModuleWra (None, 256)               0         \n",
            "_________________________________________________________________\n",
            "module_wrapper_78 (ModuleWra (None, 256)               65792     \n",
            "_________________________________________________________________\n",
            "module_wrapper_79 (ModuleWra (None, 256)               0         \n",
            "_________________________________________________________________\n",
            "module_wrapper_80 (ModuleWra (None, 256)               1024      \n",
            "_________________________________________________________________\n",
            "module_wrapper_81 (ModuleWra (None, 256)               0         \n",
            "_________________________________________________________________\n",
            "module_wrapper_82 (ModuleWra (None, 256)               65792     \n",
            "_________________________________________________________________\n",
            "module_wrapper_83 (ModuleWra (None, 256)               0         \n",
            "_________________________________________________________________\n",
            "module_wrapper_84 (ModuleWra (None, 256)               1024      \n",
            "_________________________________________________________________\n",
            "module_wrapper_85 (ModuleWra (None, 256)               0         \n",
            "_________________________________________________________________\n",
            "module_wrapper_86 (ModuleWra (None, 4)                 1028      \n",
            "_________________________________________________________________\n",
            "module_wrapper_87 (ModuleWra (None, 4)                 0         \n",
            "=================================================================\n",
            "Total params: 1,323,268\n",
            "Trainable params: 1,318,660\n",
            "Non-trainable params: 4,608\n",
            "_________________________________________________________________\n"
          ],
          "name": "stdout"
        }
      ]
    },
    {
      "cell_type": "code",
      "metadata": {
        "id": "BpcIVwqU5eTg"
      },
      "source": [
        "index = 160\n",
        "test_img = testing_features_19[index]\n",
        "test_img = np.expand_dims(test_img, axis=0)\n",
        "pred_clf = model_19_clf.predict(test_img)\n",
        "pred_bbox = model_19_bbox.predict(test_img)"
      ],
      "execution_count": 41,
      "outputs": []
    },
    {
      "cell_type": "code",
      "metadata": {
        "colab": {
          "base_uri": "https://localhost:8080/"
        },
        "id": "Iy75h5Jf7IZO",
        "outputId": "6dfa27d2-152e-441e-e822-349934a15a55"
      },
      "source": [
        "pred_clf[0], y_test_clf[index], pred_bbox[0], y_test_bbox[index]"
      ],
      "execution_count": 42,
      "outputs": [
        {
          "output_type": "execute_result",
          "data": {
            "text/plain": [
              "(array([0.10863394, 0.5771643 , 0.22486782, 0.08933393], dtype=float32),\n",
              " array([0, 1, 0, 0]),\n",
              " array([0.27284944, 0.2424121 , 0.21179007, 0.38773298], dtype=float32),\n",
              " array([0.31237054, 0.14926209, 0.23004484, 0.484207  ], dtype=float32))"
            ]
          },
          "metadata": {
            "tags": []
          },
          "execution_count": 42
        }
      ]
    },
    {
      "cell_type": "code",
      "metadata": {
        "colab": {
          "base_uri": "https://localhost:8080/"
        },
        "id": "uXuJKYg7tOIy",
        "outputId": "fd4ace76-ae87-448f-b846-6f3988a06197"
      },
      "source": [
        "classes[np.argmax(pred_clf[0])], pred_clf[0][np.argmax(pred_clf[0])]*100"
      ],
      "execution_count": 30,
      "outputs": [
        {
          "output_type": "execute_result",
          "data": {
            "text/plain": [
              "('Typical Appearance', 44.192853569984436)"
            ]
          },
          "metadata": {
            "tags": []
          },
          "execution_count": 30
        }
      ]
    },
    {
      "cell_type": "code",
      "metadata": {
        "id": "1MUmbhwS981c"
      },
      "source": [
        "model_19_bbox.save_weights('Model_19_bbox_weights_60_epochs_with_htp.h5')\n",
        "model_19_clf.save_weights('Model_19_clf_weights_60_epochs_with_htp.h5')"
      ],
      "execution_count": null,
      "outputs": []
    },
    {
      "cell_type": "code",
      "metadata": {
        "id": "w7NUxVrX-dTS"
      },
      "source": [
        "!mv /content/Model_19_bbox_weights_60_epochs_with_htp.h5 /content/drive/MyDrive/KaggleDatasets/CovidDetection/\n",
        "!mv /content/Model_19_clf_weights_60_epochs_with_htp.h5 /content/drive/MyDrive/KaggleDatasets/CovidDetection/"
      ],
      "execution_count": null,
      "outputs": []
    },
    {
      "cell_type": "code",
      "metadata": {
        "id": "PAk3wMOE3gI4"
      },
      "source": [
        "testing_img_path = '/content/drive/MyDrive/KaggleDatasets/CovidDetection/test/'"
      ],
      "execution_count": 31,
      "outputs": []
    },
    {
      "cell_type": "code",
      "metadata": {
        "id": "tpLpDohjsNkG"
      },
      "source": [
        "pred_images_fp = glob(f'{testing_img_path}*/*/*')"
      ],
      "execution_count": 32,
      "outputs": []
    },
    {
      "cell_type": "code",
      "metadata": {
        "colab": {
          "base_uri": "https://localhost:8080/",
          "height": 52
        },
        "id": "VQC2MXs7dxXK",
        "outputId": "18c8ca10-3523-42b4-e22e-44882fabbbc0"
      },
      "source": [
        "pred_images_fp[0]"
      ],
      "execution_count": 36,
      "outputs": [
        {
          "output_type": "execute_result",
          "data": {
            "application/vnd.google.colaboratory.intrinsic+json": {
              "type": "string"
            },
            "text/plain": [
              "'/content/drive/MyDrive/KaggleDatasets/CovidDetection/test/e8d137c213a0/194bc96e3aea/366e7eb393e5.dcm'"
            ]
          },
          "metadata": {
            "tags": []
          },
          "execution_count": 36
        }
      ]
    },
    {
      "cell_type": "code",
      "metadata": {
        "id": "ufwRdrCV-u01"
      },
      "source": [
        "image_size = (224,224)"
      ],
      "execution_count": 33,
      "outputs": []
    },
    {
      "cell_type": "code",
      "metadata": {
        "id": "UmMJ2v_0DSGI"
      },
      "source": [
        "model_19_clf.load_weights(\"/content/drive/MyDrive/KaggleDatasets/CovidDetection/Model_19_clf_weights_60_epochs_with_htp.h5\")\n",
        "model_19_bbox.load_weights(\"/content/drive/MyDrive/KaggleDatasets/CovidDetection/Model_19_bbox_weights_60_epochs_with_htp.h5\")"
      ],
      "execution_count": null,
      "outputs": []
    },
    {
      "cell_type": "code",
      "metadata": {
        "colab": {
          "base_uri": "https://localhost:8080/",
          "height": 66,
          "referenced_widgets": [
            "8c8e9c801d7845469abcdcf616096ef5",
            "80dc216ea7354915b7b2890abc142bd8",
            "2afe1e27091f449c9aba6cddbefee370",
            "1e3ab4b954c6407ba943490bf133f76e",
            "0f2704d1f0af46dead1cdb4b98358b7e",
            "a5e2f3521c28443787f7d6ceb02a455d",
            "1febd023b95b4db2918884b62eb08b28",
            "04c3457a99454df4b64e9711686d95e8"
          ]
        },
        "id": "hfQ7Tr2t4Lcr",
        "outputId": "5c9a0e35-bb44-434e-a350-b77139921340"
      },
      "source": [
        "results = []\n",
        "for pred_img_fp in tqdm(pred_images_fp):\n",
        "  try:\n",
        "    with tf.device(GPU_DEVICE):\n",
        "      sutdy_id = f'{pred_img_fp.split(\"/\")[7]}_study'\n",
        "      ds = dcmread(pred_img_fp) # reading image from the created path\n",
        "      image = np.array(ds.pixel_array) # converting image pixels into numpy array\n",
        "      image = cv2.resize(image, image_size) # resizing image\n",
        "      image = cv2.cvtColor(image, cv2.COLOR_GRAY2RGB) #convert to 3 channel\n",
        "      image = np.expand_dims(image, axis=0)\n",
        "      image = ptm_19.predict(input19(image))[0]\n",
        "      image = np.expand_dims(image, axis=0)\n",
        "      clf_pred = model_19_clf.predict(image)\n",
        "      clf_pred_val = clf_pred[0]\n",
        "      clf_pred_val = np.argmax(clf_pred_val)\n",
        "      class_pred = classes[clf_pred_val]\n",
        "      confidence = clf_pred[0][clf_pred_val]\n",
        "      bbox = model_19_bbox.predict(image)\n",
        "      x,y,w,h = bbox[0]\n",
        "      pred_str = None\n",
        "      if class_pred == classes[0]:\n",
        "        pred_str = f'{class_pred} {confidence} 0 0 0 0'\n",
        "      else:\n",
        "        pred_str = f'{class_pred} {confidence} {x} {y} {w} {h}'\n",
        "      results.append([sutdy_id, pred_str])\n",
        "  except:\n",
        "    pass#print(\"Exception Occured\")"
      ],
      "execution_count": 50,
      "outputs": [
        {
          "output_type": "display_data",
          "data": {
            "application/vnd.jupyter.widget-view+json": {
              "model_id": "8c8e9c801d7845469abcdcf616096ef5",
              "version_minor": 0,
              "version_major": 2
            },
            "text/plain": [
              "HBox(children=(FloatProgress(value=0.0, max=1263.0), HTML(value='')))"
            ]
          },
          "metadata": {
            "tags": []
          }
        },
        {
          "output_type": "stream",
          "text": [
            "\n"
          ],
          "name": "stdout"
        }
      ]
    },
    {
      "cell_type": "code",
      "metadata": {
        "colab": {
          "base_uri": "https://localhost:8080/",
          "height": 1000
        },
        "id": "eQ_oZroJDhB_",
        "outputId": "beb26f6b-a001-4ff4-d6ed-ca32cc2bb2a8"
      },
      "source": [
        "dataframe = pd.DataFrame(results, columns=['id', 'PredictionString'])\n",
        "dataframe.head(50)"
      ],
      "execution_count": 51,
      "outputs": [
        {
          "output_type": "execute_result",
          "data": {
            "text/html": [
              "<div>\n",
              "<style scoped>\n",
              "    .dataframe tbody tr th:only-of-type {\n",
              "        vertical-align: middle;\n",
              "    }\n",
              "\n",
              "    .dataframe tbody tr th {\n",
              "        vertical-align: top;\n",
              "    }\n",
              "\n",
              "    .dataframe thead th {\n",
              "        text-align: right;\n",
              "    }\n",
              "</style>\n",
              "<table border=\"1\" class=\"dataframe\">\n",
              "  <thead>\n",
              "    <tr style=\"text-align: right;\">\n",
              "      <th></th>\n",
              "      <th>id</th>\n",
              "      <th>PredictionString</th>\n",
              "    </tr>\n",
              "  </thead>\n",
              "  <tbody>\n",
              "    <tr>\n",
              "      <th>0</th>\n",
              "      <td>e8d137c213a0_study</td>\n",
              "      <td>Negative for Pneumonia 0.49798160791397095 0 0...</td>\n",
              "    </tr>\n",
              "    <tr>\n",
              "      <th>1</th>\n",
              "      <td>14be2e12c7cf_study</td>\n",
              "      <td>Typical Appearance 0.38487163186073303 0.24985...</td>\n",
              "    </tr>\n",
              "    <tr>\n",
              "      <th>2</th>\n",
              "      <td>32d24b5596d7_study</td>\n",
              "      <td>Typical Appearance 0.4353284537792206 0.280723...</td>\n",
              "    </tr>\n",
              "    <tr>\n",
              "      <th>3</th>\n",
              "      <td>df4910ccf64b_study</td>\n",
              "      <td>Negative for Pneumonia 0.6537365913391113 0 0 0 0</td>\n",
              "    </tr>\n",
              "    <tr>\n",
              "      <th>4</th>\n",
              "      <td>098be79259d5_study</td>\n",
              "      <td>Typical Appearance 0.42059966921806335 0.28198...</td>\n",
              "    </tr>\n",
              "    <tr>\n",
              "      <th>5</th>\n",
              "      <td>cc874d5c6431_study</td>\n",
              "      <td>Typical Appearance 0.35258251428604126 0.25475...</td>\n",
              "    </tr>\n",
              "    <tr>\n",
              "      <th>6</th>\n",
              "      <td>20ead06f3576_study</td>\n",
              "      <td>Negative for Pneumonia 0.5836619734764099 0 0 0 0</td>\n",
              "    </tr>\n",
              "    <tr>\n",
              "      <th>7</th>\n",
              "      <td>6ed0d449ff97_study</td>\n",
              "      <td>Negative for Pneumonia 0.39194032549858093 0 0...</td>\n",
              "    </tr>\n",
              "    <tr>\n",
              "      <th>8</th>\n",
              "      <td>c0924d22f592_study</td>\n",
              "      <td>Negative for Pneumonia 0.5366577506065369 0 0 0 0</td>\n",
              "    </tr>\n",
              "    <tr>\n",
              "      <th>9</th>\n",
              "      <td>119e45ffb508_study</td>\n",
              "      <td>Typical Appearance 0.43245232105255127 0.28512...</td>\n",
              "    </tr>\n",
              "    <tr>\n",
              "      <th>10</th>\n",
              "      <td>302ff5bcbcf7_study</td>\n",
              "      <td>Negative for Pneumonia 0.5552659630775452 0 0 0 0</td>\n",
              "    </tr>\n",
              "    <tr>\n",
              "      <th>11</th>\n",
              "      <td>798e11b2c8c2_study</td>\n",
              "      <td>Negative for Pneumonia 0.6930903196334839 0 0 0 0</td>\n",
              "    </tr>\n",
              "    <tr>\n",
              "      <th>12</th>\n",
              "      <td>83e89d87256b_study</td>\n",
              "      <td>Typical Appearance 0.39553192257881165 0.25827...</td>\n",
              "    </tr>\n",
              "    <tr>\n",
              "      <th>13</th>\n",
              "      <td>1d54c8a15099_study</td>\n",
              "      <td>Typical Appearance 0.39697128534317017 0.25112...</td>\n",
              "    </tr>\n",
              "    <tr>\n",
              "      <th>14</th>\n",
              "      <td>04d0f88f790a_study</td>\n",
              "      <td>Typical Appearance 0.37441909313201904 0.25243...</td>\n",
              "    </tr>\n",
              "    <tr>\n",
              "      <th>15</th>\n",
              "      <td>b07759d0c81c_study</td>\n",
              "      <td>Typical Appearance 0.6017246246337891 0.283852...</td>\n",
              "    </tr>\n",
              "    <tr>\n",
              "      <th>16</th>\n",
              "      <td>6da6b1e0a269_study</td>\n",
              "      <td>Negative for Pneumonia 0.542346179485321 0 0 0 0</td>\n",
              "    </tr>\n",
              "    <tr>\n",
              "      <th>17</th>\n",
              "      <td>57b682c96f90_study</td>\n",
              "      <td>Negative for Pneumonia 0.41213083267211914 0 0...</td>\n",
              "    </tr>\n",
              "    <tr>\n",
              "      <th>18</th>\n",
              "      <td>61cab278c091_study</td>\n",
              "      <td>Negative for Pneumonia 0.4405781626701355 0 0 0 0</td>\n",
              "    </tr>\n",
              "    <tr>\n",
              "      <th>19</th>\n",
              "      <td>6fa6c83e0221_study</td>\n",
              "      <td>Negative for Pneumonia 0.4867619276046753 0 0 0 0</td>\n",
              "    </tr>\n",
              "    <tr>\n",
              "      <th>20</th>\n",
              "      <td>9b8eca950609_study</td>\n",
              "      <td>Negative for Pneumonia 0.3851385712623596 0 0 0 0</td>\n",
              "    </tr>\n",
              "    <tr>\n",
              "      <th>21</th>\n",
              "      <td>735c7f97b72f_study</td>\n",
              "      <td>Typical Appearance 0.4276263415813446 0.275097...</td>\n",
              "    </tr>\n",
              "    <tr>\n",
              "      <th>22</th>\n",
              "      <td>cbc5e2a2efac_study</td>\n",
              "      <td>Typical Appearance 0.8443804383277893 0.315021...</td>\n",
              "    </tr>\n",
              "    <tr>\n",
              "      <th>23</th>\n",
              "      <td>108d012276cd_study</td>\n",
              "      <td>Typical Appearance 0.532827615737915 0.2738150...</td>\n",
              "    </tr>\n",
              "    <tr>\n",
              "      <th>24</th>\n",
              "      <td>6dc6d5660243_study</td>\n",
              "      <td>Typical Appearance 0.3875153064727783 0.249211...</td>\n",
              "    </tr>\n",
              "    <tr>\n",
              "      <th>25</th>\n",
              "      <td>3379f980e291_study</td>\n",
              "      <td>Negative for Pneumonia 0.3784109652042389 0 0 0 0</td>\n",
              "    </tr>\n",
              "    <tr>\n",
              "      <th>26</th>\n",
              "      <td>c987fd114725_study</td>\n",
              "      <td>Typical Appearance 0.43724289536476135 0.29843...</td>\n",
              "    </tr>\n",
              "    <tr>\n",
              "      <th>27</th>\n",
              "      <td>2c0138f0333f_study</td>\n",
              "      <td>Negative for Pneumonia 0.4052650034427643 0 0 0 0</td>\n",
              "    </tr>\n",
              "    <tr>\n",
              "      <th>28</th>\n",
              "      <td>2c0138f0333f_study</td>\n",
              "      <td>Typical Appearance 0.5097744464874268 0.276149...</td>\n",
              "    </tr>\n",
              "    <tr>\n",
              "      <th>29</th>\n",
              "      <td>fb97c8dfe8e4_study</td>\n",
              "      <td>Negative for Pneumonia 0.6003724336624146 0 0 0 0</td>\n",
              "    </tr>\n",
              "    <tr>\n",
              "      <th>30</th>\n",
              "      <td>b9fdedd4051e_study</td>\n",
              "      <td>Negative for Pneumonia 0.46563395857810974 0 0...</td>\n",
              "    </tr>\n",
              "    <tr>\n",
              "      <th>31</th>\n",
              "      <td>2638265181c6_study</td>\n",
              "      <td>Typical Appearance 0.41031381487846375 0.28733...</td>\n",
              "    </tr>\n",
              "    <tr>\n",
              "      <th>32</th>\n",
              "      <td>bb33957a9bd5_study</td>\n",
              "      <td>Typical Appearance 0.6786019206047058 1.565216...</td>\n",
              "    </tr>\n",
              "    <tr>\n",
              "      <th>33</th>\n",
              "      <td>d6104076541a_study</td>\n",
              "      <td>Negative for Pneumonia 0.45620599389076233 0 0...</td>\n",
              "    </tr>\n",
              "    <tr>\n",
              "      <th>34</th>\n",
              "      <td>d692c60e21ef_study</td>\n",
              "      <td>Typical Appearance 0.36635521054267883 0.26356...</td>\n",
              "    </tr>\n",
              "    <tr>\n",
              "      <th>35</th>\n",
              "      <td>00188a671292_study</td>\n",
              "      <td>Typical Appearance 0.3590269088745117 0.242720...</td>\n",
              "    </tr>\n",
              "    <tr>\n",
              "      <th>36</th>\n",
              "      <td>a882dd5cb2de_study</td>\n",
              "      <td>Typical Appearance 0.40251681208610535 0.25141...</td>\n",
              "    </tr>\n",
              "    <tr>\n",
              "      <th>37</th>\n",
              "      <td>719ffac176ee_study</td>\n",
              "      <td>Negative for Pneumonia 0.4839680790901184 0 0 0 0</td>\n",
              "    </tr>\n",
              "    <tr>\n",
              "      <th>38</th>\n",
              "      <td>b647d5c8422e_study</td>\n",
              "      <td>Typical Appearance 0.38129064440727234 0.19739...</td>\n",
              "    </tr>\n",
              "    <tr>\n",
              "      <th>39</th>\n",
              "      <td>8b273337a684_study</td>\n",
              "      <td>Negative for Pneumonia 0.36806219816207886 0 0...</td>\n",
              "    </tr>\n",
              "    <tr>\n",
              "      <th>40</th>\n",
              "      <td>af8cc211df75_study</td>\n",
              "      <td>Negative for Pneumonia 0.41062262654304504 0 0...</td>\n",
              "    </tr>\n",
              "    <tr>\n",
              "      <th>41</th>\n",
              "      <td>37fc5147ab39_study</td>\n",
              "      <td>Typical Appearance 0.4650268256664276 0.260514...</td>\n",
              "    </tr>\n",
              "    <tr>\n",
              "      <th>42</th>\n",
              "      <td>2b998af7ca8b_study</td>\n",
              "      <td>Typical Appearance 0.35923445224761963 0.24273...</td>\n",
              "    </tr>\n",
              "    <tr>\n",
              "      <th>43</th>\n",
              "      <td>4916eadc694d_study</td>\n",
              "      <td>Typical Appearance 0.47429129481315613 0.31103...</td>\n",
              "    </tr>\n",
              "    <tr>\n",
              "      <th>44</th>\n",
              "      <td>2ea214f65500_study</td>\n",
              "      <td>Typical Appearance 0.41029131412506104 0.21984...</td>\n",
              "    </tr>\n",
              "    <tr>\n",
              "      <th>45</th>\n",
              "      <td>19b9a8cb7587_study</td>\n",
              "      <td>Typical Appearance 0.38751575350761414 0.27051...</td>\n",
              "    </tr>\n",
              "    <tr>\n",
              "      <th>46</th>\n",
              "      <td>18acddb9abb7_study</td>\n",
              "      <td>Negative for Pneumonia 0.6850938200950623 0 0 0 0</td>\n",
              "    </tr>\n",
              "    <tr>\n",
              "      <th>47</th>\n",
              "      <td>98603aec7e42_study</td>\n",
              "      <td>Typical Appearance 0.4103395640850067 0.254632...</td>\n",
              "    </tr>\n",
              "    <tr>\n",
              "      <th>48</th>\n",
              "      <td>7f3115e66c1e_study</td>\n",
              "      <td>Negative for Pneumonia 0.4836299419403076 0 0 0 0</td>\n",
              "    </tr>\n",
              "    <tr>\n",
              "      <th>49</th>\n",
              "      <td>54ab1c9162d3_study</td>\n",
              "      <td>Typical Appearance 0.5339886546134949 0.272078...</td>\n",
              "    </tr>\n",
              "  </tbody>\n",
              "</table>\n",
              "</div>"
            ],
            "text/plain": [
              "                    id                                   PredictionString\n",
              "0   e8d137c213a0_study  Negative for Pneumonia 0.49798160791397095 0 0...\n",
              "1   14be2e12c7cf_study  Typical Appearance 0.38487163186073303 0.24985...\n",
              "2   32d24b5596d7_study  Typical Appearance 0.4353284537792206 0.280723...\n",
              "3   df4910ccf64b_study  Negative for Pneumonia 0.6537365913391113 0 0 0 0\n",
              "4   098be79259d5_study  Typical Appearance 0.42059966921806335 0.28198...\n",
              "5   cc874d5c6431_study  Typical Appearance 0.35258251428604126 0.25475...\n",
              "6   20ead06f3576_study  Negative for Pneumonia 0.5836619734764099 0 0 0 0\n",
              "7   6ed0d449ff97_study  Negative for Pneumonia 0.39194032549858093 0 0...\n",
              "8   c0924d22f592_study  Negative for Pneumonia 0.5366577506065369 0 0 0 0\n",
              "9   119e45ffb508_study  Typical Appearance 0.43245232105255127 0.28512...\n",
              "10  302ff5bcbcf7_study  Negative for Pneumonia 0.5552659630775452 0 0 0 0\n",
              "11  798e11b2c8c2_study  Negative for Pneumonia 0.6930903196334839 0 0 0 0\n",
              "12  83e89d87256b_study  Typical Appearance 0.39553192257881165 0.25827...\n",
              "13  1d54c8a15099_study  Typical Appearance 0.39697128534317017 0.25112...\n",
              "14  04d0f88f790a_study  Typical Appearance 0.37441909313201904 0.25243...\n",
              "15  b07759d0c81c_study  Typical Appearance 0.6017246246337891 0.283852...\n",
              "16  6da6b1e0a269_study   Negative for Pneumonia 0.542346179485321 0 0 0 0\n",
              "17  57b682c96f90_study  Negative for Pneumonia 0.41213083267211914 0 0...\n",
              "18  61cab278c091_study  Negative for Pneumonia 0.4405781626701355 0 0 0 0\n",
              "19  6fa6c83e0221_study  Negative for Pneumonia 0.4867619276046753 0 0 0 0\n",
              "20  9b8eca950609_study  Negative for Pneumonia 0.3851385712623596 0 0 0 0\n",
              "21  735c7f97b72f_study  Typical Appearance 0.4276263415813446 0.275097...\n",
              "22  cbc5e2a2efac_study  Typical Appearance 0.8443804383277893 0.315021...\n",
              "23  108d012276cd_study  Typical Appearance 0.532827615737915 0.2738150...\n",
              "24  6dc6d5660243_study  Typical Appearance 0.3875153064727783 0.249211...\n",
              "25  3379f980e291_study  Negative for Pneumonia 0.3784109652042389 0 0 0 0\n",
              "26  c987fd114725_study  Typical Appearance 0.43724289536476135 0.29843...\n",
              "27  2c0138f0333f_study  Negative for Pneumonia 0.4052650034427643 0 0 0 0\n",
              "28  2c0138f0333f_study  Typical Appearance 0.5097744464874268 0.276149...\n",
              "29  fb97c8dfe8e4_study  Negative for Pneumonia 0.6003724336624146 0 0 0 0\n",
              "30  b9fdedd4051e_study  Negative for Pneumonia 0.46563395857810974 0 0...\n",
              "31  2638265181c6_study  Typical Appearance 0.41031381487846375 0.28733...\n",
              "32  bb33957a9bd5_study  Typical Appearance 0.6786019206047058 1.565216...\n",
              "33  d6104076541a_study  Negative for Pneumonia 0.45620599389076233 0 0...\n",
              "34  d692c60e21ef_study  Typical Appearance 0.36635521054267883 0.26356...\n",
              "35  00188a671292_study  Typical Appearance 0.3590269088745117 0.242720...\n",
              "36  a882dd5cb2de_study  Typical Appearance 0.40251681208610535 0.25141...\n",
              "37  719ffac176ee_study  Negative for Pneumonia 0.4839680790901184 0 0 0 0\n",
              "38  b647d5c8422e_study  Typical Appearance 0.38129064440727234 0.19739...\n",
              "39  8b273337a684_study  Negative for Pneumonia 0.36806219816207886 0 0...\n",
              "40  af8cc211df75_study  Negative for Pneumonia 0.41062262654304504 0 0...\n",
              "41  37fc5147ab39_study  Typical Appearance 0.4650268256664276 0.260514...\n",
              "42  2b998af7ca8b_study  Typical Appearance 0.35923445224761963 0.24273...\n",
              "43  4916eadc694d_study  Typical Appearance 0.47429129481315613 0.31103...\n",
              "44  2ea214f65500_study  Typical Appearance 0.41029131412506104 0.21984...\n",
              "45  19b9a8cb7587_study  Typical Appearance 0.38751575350761414 0.27051...\n",
              "46  18acddb9abb7_study  Negative for Pneumonia 0.6850938200950623 0 0 0 0\n",
              "47  98603aec7e42_study  Typical Appearance 0.4103395640850067 0.254632...\n",
              "48  7f3115e66c1e_study  Negative for Pneumonia 0.4836299419403076 0 0 0 0\n",
              "49  54ab1c9162d3_study  Typical Appearance 0.5339886546134949 0.272078..."
            ]
          },
          "metadata": {
            "tags": []
          },
          "execution_count": 51
        }
      ]
    },
    {
      "cell_type": "code",
      "metadata": {
        "id": "fPg8aXxLETGu"
      },
      "source": [
        "dataframe.to_csv(\"Submission.csv\", index=False)"
      ],
      "execution_count": 52,
      "outputs": []
    }
  ]
}